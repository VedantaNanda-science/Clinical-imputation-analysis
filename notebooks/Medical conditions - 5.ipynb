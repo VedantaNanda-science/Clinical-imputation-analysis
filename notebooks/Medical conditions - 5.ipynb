{
 "cells": [
  {
   "cell_type": "markdown",
   "id": "e43c1e79",
   "metadata": {},
   "source": [
    "# NOTEBOOK - 5"
   ]
  },
  {
   "cell_type": "markdown",
   "id": "68a616d9",
   "metadata": {},
   "source": [
    "# Importing Libraries "
   ]
  },
  {
   "cell_type": "code",
   "execution_count": 1,
   "id": "e36f635e",
   "metadata": {},
   "outputs": [],
   "source": [
    "import numpy as np\n",
    "import pandas as pd\n",
    "from sklearn.preprocessing import LabelEncoder, OneHotEncoder, OrdinalEncoder\n",
    "from sklearn.model_selection import train_test_split\n",
    "from sklearn.compose import ColumnTransformer\n",
    "from sklearn.impute import SimpleImputer\n",
    "from sklearn.preprocessing import OneHotEncoder\n",
    "from sklearn.preprocessing import OrdinalEncoder\n",
    "from sklearn.preprocessing import StandardScaler\n",
    "from sklearn.preprocessing import MaxAbsScaler\n",
    "from sklearn.metrics import confusion_matrix, f1_score\n",
    "import matplotlib.pyplot as plt\n",
    "import seaborn as sns\n",
    "from sklearn.metrics import accuracy_score, precision_score, recall_score, f1_score\n",
    "from sklearn.metrics import classification_report\n",
    "from sklearn.metrics import confusion_matrix, ConfusionMatrixDisplay\n",
    "from sklearn.metrics import roc_curve, roc_auc_score, RocCurveDisplay\n",
    "from sklearn.linear_model import LogisticRegression\n",
    "from sklearn.pipeline import Pipeline\n",
    "from sklearn.model_selection import cross_val_score\n",
    "from sklearn.model_selection import GridSearchCV\n",
    "from sklearn.metrics import classification_report, confusion_matrix, accuracy_score, f1_score"
   ]
  },
  {
   "cell_type": "markdown",
   "id": "a4d34c5d",
   "metadata": {},
   "source": [
    "# Importing the dataset "
   ]
  },
  {
   "cell_type": "code",
   "execution_count": 2,
   "id": "63037eec",
   "metadata": {},
   "outputs": [
    {
     "data": {
      "text/html": [
       "<div>\n",
       "<style scoped>\n",
       "    .dataframe tbody tr th:only-of-type {\n",
       "        vertical-align: middle;\n",
       "    }\n",
       "\n",
       "    .dataframe tbody tr th {\n",
       "        vertical-align: top;\n",
       "    }\n",
       "\n",
       "    .dataframe thead th {\n",
       "        text-align: right;\n",
       "    }\n",
       "</style>\n",
       "<table border=\"1\" class=\"dataframe\">\n",
       "  <thead>\n",
       "    <tr style=\"text-align: right;\">\n",
       "      <th></th>\n",
       "      <th>id</th>\n",
       "      <th>full_name</th>\n",
       "      <th>age</th>\n",
       "      <th>gender</th>\n",
       "      <th>smoking_status</th>\n",
       "      <th>bmi</th>\n",
       "      <th>blood_pressure</th>\n",
       "      <th>glucose_levels</th>\n",
       "      <th>condition</th>\n",
       "    </tr>\n",
       "  </thead>\n",
       "  <tbody>\n",
       "    <tr>\n",
       "      <th>0</th>\n",
       "      <td>1</td>\n",
       "      <td>User0001</td>\n",
       "      <td>NaN</td>\n",
       "      <td>male</td>\n",
       "      <td>Non-Smoker</td>\n",
       "      <td>NaN</td>\n",
       "      <td>NaN</td>\n",
       "      <td>NaN</td>\n",
       "      <td>Pneumonia</td>\n",
       "    </tr>\n",
       "    <tr>\n",
       "      <th>1</th>\n",
       "      <td>2</td>\n",
       "      <td>User0002</td>\n",
       "      <td>30.0</td>\n",
       "      <td>male</td>\n",
       "      <td>Non-Smoker</td>\n",
       "      <td>NaN</td>\n",
       "      <td>105.315064</td>\n",
       "      <td>NaN</td>\n",
       "      <td>Diabetic</td>\n",
       "    </tr>\n",
       "    <tr>\n",
       "      <th>2</th>\n",
       "      <td>3</td>\n",
       "      <td>User0003</td>\n",
       "      <td>18.0</td>\n",
       "      <td>male</td>\n",
       "      <td>Non-Smoker</td>\n",
       "      <td>35.612486</td>\n",
       "      <td>NaN</td>\n",
       "      <td>NaN</td>\n",
       "      <td>Pneumonia</td>\n",
       "    </tr>\n",
       "    <tr>\n",
       "      <th>3</th>\n",
       "      <td>4</td>\n",
       "      <td>User0004</td>\n",
       "      <td>NaN</td>\n",
       "      <td>male</td>\n",
       "      <td>Non-Smoker</td>\n",
       "      <td>NaN</td>\n",
       "      <td>99.119829</td>\n",
       "      <td>NaN</td>\n",
       "      <td>Pneumonia</td>\n",
       "    </tr>\n",
       "    <tr>\n",
       "      <th>4</th>\n",
       "      <td>5</td>\n",
       "      <td>User0005</td>\n",
       "      <td>76.0</td>\n",
       "      <td>male</td>\n",
       "      <td>Non-Smoker</td>\n",
       "      <td>NaN</td>\n",
       "      <td>NaN</td>\n",
       "      <td>NaN</td>\n",
       "      <td>Diabetic</td>\n",
       "    </tr>\n",
       "    <tr>\n",
       "      <th>...</th>\n",
       "      <td>...</td>\n",
       "      <td>...</td>\n",
       "      <td>...</td>\n",
       "      <td>...</td>\n",
       "      <td>...</td>\n",
       "      <td>...</td>\n",
       "      <td>...</td>\n",
       "      <td>...</td>\n",
       "      <td>...</td>\n",
       "    </tr>\n",
       "    <tr>\n",
       "      <th>9995</th>\n",
       "      <td>9996</td>\n",
       "      <td>User9996</td>\n",
       "      <td>NaN</td>\n",
       "      <td>male</td>\n",
       "      <td>Non-Smoker</td>\n",
       "      <td>25.029002</td>\n",
       "      <td>152.540355</td>\n",
       "      <td>137.551451</td>\n",
       "      <td>Pneumonia</td>\n",
       "    </tr>\n",
       "    <tr>\n",
       "      <th>9996</th>\n",
       "      <td>9997</td>\n",
       "      <td>User9997</td>\n",
       "      <td>NaN</td>\n",
       "      <td>male</td>\n",
       "      <td>Non-Smoker</td>\n",
       "      <td>27.017487</td>\n",
       "      <td>NaN</td>\n",
       "      <td>NaN</td>\n",
       "      <td>Diabetic</td>\n",
       "    </tr>\n",
       "    <tr>\n",
       "      <th>9997</th>\n",
       "      <td>9998</td>\n",
       "      <td>User9998</td>\n",
       "      <td>23.0</td>\n",
       "      <td>male</td>\n",
       "      <td>Smoker</td>\n",
       "      <td>NaN</td>\n",
       "      <td>148.833321</td>\n",
       "      <td>173.931480</td>\n",
       "      <td>Pneumonia</td>\n",
       "    </tr>\n",
       "    <tr>\n",
       "      <th>9998</th>\n",
       "      <td>9999</td>\n",
       "      <td>User9999</td>\n",
       "      <td>NaN</td>\n",
       "      <td>female</td>\n",
       "      <td>Non-Smoker</td>\n",
       "      <td>NaN</td>\n",
       "      <td>NaN</td>\n",
       "      <td>NaN</td>\n",
       "      <td>Pneumonia</td>\n",
       "    </tr>\n",
       "    <tr>\n",
       "      <th>9999</th>\n",
       "      <td>10000</td>\n",
       "      <td>User10000</td>\n",
       "      <td>27.0</td>\n",
       "      <td>male</td>\n",
       "      <td>Non-Smoker</td>\n",
       "      <td>25.454891</td>\n",
       "      <td>NaN</td>\n",
       "      <td>196.083267</td>\n",
       "      <td>Diabetic</td>\n",
       "    </tr>\n",
       "  </tbody>\n",
       "</table>\n",
       "<p>10000 rows × 9 columns</p>\n",
       "</div>"
      ],
      "text/plain": [
       "         id  full_name   age  gender smoking_status        bmi  \\\n",
       "0         1   User0001   NaN    male     Non-Smoker        NaN   \n",
       "1         2   User0002  30.0    male     Non-Smoker        NaN   \n",
       "2         3   User0003  18.0    male     Non-Smoker  35.612486   \n",
       "3         4   User0004   NaN    male     Non-Smoker        NaN   \n",
       "4         5   User0005  76.0    male     Non-Smoker        NaN   \n",
       "...     ...        ...   ...     ...            ...        ...   \n",
       "9995   9996   User9996   NaN    male     Non-Smoker  25.029002   \n",
       "9996   9997   User9997   NaN    male     Non-Smoker  27.017487   \n",
       "9997   9998   User9998  23.0    male         Smoker        NaN   \n",
       "9998   9999   User9999   NaN  female     Non-Smoker        NaN   \n",
       "9999  10000  User10000  27.0    male     Non-Smoker  25.454891   \n",
       "\n",
       "      blood_pressure  glucose_levels  condition  \n",
       "0                NaN             NaN  Pneumonia  \n",
       "1         105.315064             NaN   Diabetic  \n",
       "2                NaN             NaN  Pneumonia  \n",
       "3          99.119829             NaN  Pneumonia  \n",
       "4                NaN             NaN   Diabetic  \n",
       "...              ...             ...        ...  \n",
       "9995      152.540355      137.551451  Pneumonia  \n",
       "9996             NaN             NaN   Diabetic  \n",
       "9997      148.833321      173.931480  Pneumonia  \n",
       "9998             NaN             NaN  Pneumonia  \n",
       "9999             NaN      196.083267   Diabetic  \n",
       "\n",
       "[10000 rows x 9 columns]"
      ]
     },
     "execution_count": 2,
     "metadata": {},
     "output_type": "execute_result"
    }
   ],
   "source": [
    "import pandas as pd\n",
    "df = pd.read_csv(\"medical_conditions_dataset.csv\")\n",
    "df"
   ]
  },
  {
   "cell_type": "markdown",
   "id": "17660f0c",
   "metadata": {},
   "source": [
    "# 1. Feature Selection and Preprocessing "
   ]
  },
  {
   "cell_type": "markdown",
   "id": "b2285b2d",
   "metadata": {},
   "source": [
    "1. Problem-Specific Feature Selection\n",
    "The features chosen should directly relate to smoking behavior. For example:\n",
    "    \n",
    "* Age: Smoking habits often vary by age, making it an important feature.\n",
    "* Gender: Smoking rates differ between genders, so gender is crucial.\n",
    "* Income: Smoking rates are sometimes higher among lower-income groups.\n",
    "* Education: Higher education levels tend to correlate with lower smoking rates.\n",
    "* Occupation: Certain occupations may have higher smoking rates due to stress or social factors.\n",
    "These features are selected based on their clear connection to smoking behavior."
   ]
  },
  {
   "cell_type": "markdown",
   "id": "b057fba7",
   "metadata": {},
   "source": [
    "2. Domain Knowledge\n",
    "Understanding the problem helps identify key features, even if not immediately apparent statistically. For instance:\n",
    "\n",
    "* Health variables: Chronic diseases or mental health issues might affect smoking behaviors.\n",
    "* Social influences: Family or friends who smoke can influence one's smoking habits.\n",
    "\n",
    "These insights help ensure the model reflects real-world factors affecting smoking."
   ]
  },
  {
   "cell_type": "markdown",
   "id": "e75e1354",
   "metadata": {},
   "source": [
    "# Data Cleaning and EDA "
   ]
  },
  {
   "cell_type": "code",
   "execution_count": 3,
   "id": "7b5c06ee",
   "metadata": {},
   "outputs": [
    {
     "data": {
      "text/html": [
       "<div>\n",
       "<style scoped>\n",
       "    .dataframe tbody tr th:only-of-type {\n",
       "        vertical-align: middle;\n",
       "    }\n",
       "\n",
       "    .dataframe tbody tr th {\n",
       "        vertical-align: top;\n",
       "    }\n",
       "\n",
       "    .dataframe thead th {\n",
       "        text-align: right;\n",
       "    }\n",
       "</style>\n",
       "<table border=\"1\" class=\"dataframe\">\n",
       "  <thead>\n",
       "    <tr style=\"text-align: right;\">\n",
       "      <th></th>\n",
       "      <th>id</th>\n",
       "      <th>age</th>\n",
       "      <th>bmi</th>\n",
       "      <th>blood_pressure</th>\n",
       "      <th>glucose_levels</th>\n",
       "    </tr>\n",
       "  </thead>\n",
       "  <tbody>\n",
       "    <tr>\n",
       "      <th>count</th>\n",
       "      <td>10000.00000</td>\n",
       "      <td>5445.000000</td>\n",
       "      <td>4652.000000</td>\n",
       "      <td>3766.000000</td>\n",
       "      <td>4756.000000</td>\n",
       "    </tr>\n",
       "    <tr>\n",
       "      <th>mean</th>\n",
       "      <td>5000.50000</td>\n",
       "      <td>53.541598</td>\n",
       "      <td>27.423420</td>\n",
       "      <td>135.209429</td>\n",
       "      <td>135.219608</td>\n",
       "    </tr>\n",
       "    <tr>\n",
       "      <th>std</th>\n",
       "      <td>2886.89568</td>\n",
       "      <td>20.925113</td>\n",
       "      <td>7.231257</td>\n",
       "      <td>26.041531</td>\n",
       "      <td>37.607638</td>\n",
       "    </tr>\n",
       "    <tr>\n",
       "      <th>min</th>\n",
       "      <td>1.00000</td>\n",
       "      <td>18.000000</td>\n",
       "      <td>15.012119</td>\n",
       "      <td>90.009620</td>\n",
       "      <td>70.015961</td>\n",
       "    </tr>\n",
       "    <tr>\n",
       "      <th>25%</th>\n",
       "      <td>2500.75000</td>\n",
       "      <td>35.000000</td>\n",
       "      <td>21.077894</td>\n",
       "      <td>113.107754</td>\n",
       "      <td>102.273703</td>\n",
       "    </tr>\n",
       "    <tr>\n",
       "      <th>50%</th>\n",
       "      <td>5000.50000</td>\n",
       "      <td>54.000000</td>\n",
       "      <td>27.326204</td>\n",
       "      <td>134.821040</td>\n",
       "      <td>135.436764</td>\n",
       "    </tr>\n",
       "    <tr>\n",
       "      <th>75%</th>\n",
       "      <td>7500.25000</td>\n",
       "      <td>72.000000</td>\n",
       "      <td>33.689330</td>\n",
       "      <td>157.949509</td>\n",
       "      <td>168.349011</td>\n",
       "    </tr>\n",
       "    <tr>\n",
       "      <th>max</th>\n",
       "      <td>10000.00000</td>\n",
       "      <td>89.000000</td>\n",
       "      <td>39.998687</td>\n",
       "      <td>179.999359</td>\n",
       "      <td>199.890429</td>\n",
       "    </tr>\n",
       "  </tbody>\n",
       "</table>\n",
       "</div>"
      ],
      "text/plain": [
       "                id          age          bmi  blood_pressure  glucose_levels\n",
       "count  10000.00000  5445.000000  4652.000000     3766.000000     4756.000000\n",
       "mean    5000.50000    53.541598    27.423420      135.209429      135.219608\n",
       "std     2886.89568    20.925113     7.231257       26.041531       37.607638\n",
       "min        1.00000    18.000000    15.012119       90.009620       70.015961\n",
       "25%     2500.75000    35.000000    21.077894      113.107754      102.273703\n",
       "50%     5000.50000    54.000000    27.326204      134.821040      135.436764\n",
       "75%     7500.25000    72.000000    33.689330      157.949509      168.349011\n",
       "max    10000.00000    89.000000    39.998687      179.999359      199.890429"
      ]
     },
     "execution_count": 3,
     "metadata": {},
     "output_type": "execute_result"
    }
   ],
   "source": [
    "# Summary Statistics \n",
    "df.describe()"
   ]
  },
  {
   "cell_type": "code",
   "execution_count": 4,
   "id": "888048c9",
   "metadata": {},
   "outputs": [
    {
     "data": {
      "text/plain": [
       "id                 0.00\n",
       "full_name          0.00\n",
       "age               45.55\n",
       "gender             0.00\n",
       "smoking_status     0.00\n",
       "bmi               53.48\n",
       "blood_pressure    62.34\n",
       "glucose_levels    52.44\n",
       "condition          0.00\n",
       "dtype: float64"
      ]
     },
     "execution_count": 4,
     "metadata": {},
     "output_type": "execute_result"
    }
   ],
   "source": [
    "# Checking %age of missing values in the dataset \n",
    "df.isnull().mean()*100"
   ]
  },
  {
   "cell_type": "code",
   "execution_count": 5,
   "id": "06426fa8",
   "metadata": {},
   "outputs": [
    {
     "name": "stdout",
     "output_type": "stream",
     "text": [
      "Missing Data Summary:\n",
      "                Missing Count  Missing Percentage\n",
      "blood_pressure           6234               62.34\n",
      "bmi                      5348               53.48\n",
      "glucose_levels           5244               52.44\n",
      "age                      4555               45.55\n"
     ]
    },
    {
     "data": {
      "image/png": "[encoded data removed]",
      "text/plain": [
       "<Figure size 1200x600 with 1 Axes>"
      ]
     },
     "metadata": {},
     "output_type": "display_data"
    }
   ],
   "source": [
    "# missing data analysis \n",
    "import pandas as pd\n",
    "import seaborn as sns\n",
    "import matplotlib.pyplot as plt\n",
    "\n",
    "# 1. Checking missing values per column\n",
    "missing_counts = df.isnull().sum()\n",
    "missing_percent = (missing_counts / len(df)) * 100\n",
    "missing_df = pd.DataFrame({\n",
    "    'Missing Count': missing_counts,\n",
    "    'Missing Percentage': missing_percent\n",
    "})\n",
    "missing_df = missing_df[missing_df['Missing Count'] > 0].sort_values(by='Missing Percentage', ascending=False)\n",
    "print(\"Missing Data Summary:\")\n",
    "print(missing_df)\n",
    "\n",
    "# 2. Visualize percentage of missing data as a bar plot\n",
    "plt.figure(figsize=(12, 6))\n",
    "sns.barplot(x=missing_df.index, y='Missing Percentage', data=missing_df)\n",
    "plt.xticks(rotation=45, ha='right')\n",
    "plt.ylabel('Percentage of Missing Data')\n",
    "plt.title('Missing Data by Feature')\n",
    "plt.show()\n"
   ]
  },
  {
   "cell_type": "code",
   "execution_count": 6,
   "id": "8d570038",
   "metadata": {},
   "outputs": [],
   "source": [
    "# Data Cleaning\n",
    "\n",
    "# Dropping unnecessary columns\n",
    "df.drop(columns=['id', 'full_name'], inplace=True)\n",
    "# Convert 'age' into integer, marking small values or nulls as NA\n",
    "df['age'] = df['age'].apply(lambda x: int(x) if pd.notna(x) and x > 1 else pd.NA)\n",
    "# Drop rows where age is missing\n",
    "df = df.dropna(subset=['age'])\n",
    "# Reset index (optional but recommended)\n",
    "df.reset_index(drop=True, inplace=True)"
   ]
  },
  {
   "cell_type": "markdown",
   "id": "aacad3cb",
   "metadata": {},
   "source": [
    "# Imputation Technique 4 - KNN Imputation "
   ]
  },
  {
   "cell_type": "markdown",
   "id": "a7be9a7d",
   "metadata": {},
   "source": [
    "K-Nearest Neighbors (KNN) imputation is a popular technique used to handle missing data in datasets. It works by identifying the 'k' most similar instances (neighbors) to the observation with missing values and then estimating the missing data based on the values of these neighbors. This method leverages the assumption that similar data points tend to have similar values, making it effective for datasets where such relationships exist. KNN imputation is non-parametric and can be applied to both numerical and categorical data, offering a flexible and intuitive approach to data cleaning."
   ]
  },
  {
   "cell_type": "code",
   "execution_count": 7,
   "id": "1dd236d6",
   "metadata": {},
   "outputs": [
    {
     "name": "stderr",
     "output_type": "stream",
     "text": [
      "/var/folders/3z/04dfh84n663cm0t0v83rlcv00000gn/T/ipykernel_4859/908397038.py:7: SettingWithCopyWarning: \n",
      "A value is trying to be set on a copy of a slice from a DataFrame.\n",
      "Try using .loc[row_indexer,col_indexer] = value instead\n",
      "\n",
      "See the caveats in the documentation: https://pandas.pydata.org/pandas-docs/stable/user_guide/indexing.html#returning-a-view-versus-a-copy\n",
      "  df[numeric_cols] = imputer.fit_transform(df[numeric_cols])\n"
     ]
    },
    {
     "data": {
      "text/html": [
       "<div>\n",
       "<style scoped>\n",
       "    .dataframe tbody tr th:only-of-type {\n",
       "        vertical-align: middle;\n",
       "    }\n",
       "\n",
       "    .dataframe tbody tr th {\n",
       "        vertical-align: top;\n",
       "    }\n",
       "\n",
       "    .dataframe thead th {\n",
       "        text-align: right;\n",
       "    }\n",
       "</style>\n",
       "<table border=\"1\" class=\"dataframe\">\n",
       "  <thead>\n",
       "    <tr style=\"text-align: right;\">\n",
       "      <th></th>\n",
       "      <th>age</th>\n",
       "      <th>gender</th>\n",
       "      <th>smoking_status</th>\n",
       "      <th>bmi</th>\n",
       "      <th>blood_pressure</th>\n",
       "      <th>glucose_levels</th>\n",
       "      <th>condition</th>\n",
       "    </tr>\n",
       "  </thead>\n",
       "  <tbody>\n",
       "    <tr>\n",
       "      <th>0</th>\n",
       "      <td>30.0</td>\n",
       "      <td>male</td>\n",
       "      <td>Non-Smoker</td>\n",
       "      <td>29.103009</td>\n",
       "      <td>105.315064</td>\n",
       "      <td>143.202636</td>\n",
       "      <td>Diabetic</td>\n",
       "    </tr>\n",
       "    <tr>\n",
       "      <th>1</th>\n",
       "      <td>18.0</td>\n",
       "      <td>male</td>\n",
       "      <td>Non-Smoker</td>\n",
       "      <td>35.612486</td>\n",
       "      <td>139.913482</td>\n",
       "      <td>106.788341</td>\n",
       "      <td>Pneumonia</td>\n",
       "    </tr>\n",
       "    <tr>\n",
       "      <th>2</th>\n",
       "      <td>76.0</td>\n",
       "      <td>male</td>\n",
       "      <td>Non-Smoker</td>\n",
       "      <td>21.073229</td>\n",
       "      <td>151.657617</td>\n",
       "      <td>150.294896</td>\n",
       "      <td>Diabetic</td>\n",
       "    </tr>\n",
       "    <tr>\n",
       "      <th>3</th>\n",
       "      <td>40.0</td>\n",
       "      <td>male</td>\n",
       "      <td>Non-Smoker</td>\n",
       "      <td>33.840723</td>\n",
       "      <td>123.941858</td>\n",
       "      <td>136.151324</td>\n",
       "      <td>Diabetic</td>\n",
       "    </tr>\n",
       "    <tr>\n",
       "      <th>4</th>\n",
       "      <td>49.0</td>\n",
       "      <td>male</td>\n",
       "      <td>Smoker</td>\n",
       "      <td>26.109242</td>\n",
       "      <td>118.863841</td>\n",
       "      <td>153.151126</td>\n",
       "      <td>Cancer</td>\n",
       "    </tr>\n",
       "  </tbody>\n",
       "</table>\n",
       "</div>"
      ],
      "text/plain": [
       "    age gender smoking_status        bmi  blood_pressure  glucose_levels  \\\n",
       "0  30.0   male     Non-Smoker  29.103009      105.315064      143.202636   \n",
       "1  18.0   male     Non-Smoker  35.612486      139.913482      106.788341   \n",
       "2  76.0   male     Non-Smoker  21.073229      151.657617      150.294896   \n",
       "3  40.0   male     Non-Smoker  33.840723      123.941858      136.151324   \n",
       "4  49.0   male         Smoker  26.109242      118.863841      153.151126   \n",
       "\n",
       "   condition  \n",
       "0   Diabetic  \n",
       "1  Pneumonia  \n",
       "2   Diabetic  \n",
       "3   Diabetic  \n",
       "4     Cancer  "
      ]
     },
     "execution_count": 7,
     "metadata": {},
     "output_type": "execute_result"
    }
   ],
   "source": [
    "from sklearn.impute import KNNImputer\n",
    "# Select only numerical columns for KNN imputation\n",
    "numeric_cols = ['age', 'bmi', 'blood_pressure', 'glucose_levels']\n",
    "imputer = KNNImputer(n_neighbors=5)\n",
    "\n",
    "# Apply KNN imputer\n",
    "df[numeric_cols] = imputer.fit_transform(df[numeric_cols])\n",
    "df.head()"
   ]
  },
  {
   "cell_type": "code",
   "execution_count": 8,
   "id": "0717db71",
   "metadata": {},
   "outputs": [
    {
     "data": {
      "text/plain": [
       "age               0.0\n",
       "gender            0.0\n",
       "smoking_status    0.0\n",
       "bmi               0.0\n",
       "blood_pressure    0.0\n",
       "glucose_levels    0.0\n",
       "condition         0.0\n",
       "dtype: float64"
      ]
     },
     "execution_count": 8,
     "metadata": {},
     "output_type": "execute_result"
    }
   ],
   "source": [
    "df.isnull().mean()*100 # Verify imputation success"
   ]
  },
  {
   "cell_type": "markdown",
   "id": "d961a7c0",
   "metadata": {},
   "source": [
    "# Handling Outliers "
   ]
  },
  {
   "cell_type": "code",
   "execution_count": 9,
   "id": "d31107a4",
   "metadata": {},
   "outputs": [
    {
     "name": "stdout",
     "output_type": "stream",
     "text": [
      "Rows before: 5445\n",
      "Rows after outlier removal: 5445\n"
     ]
    },
    {
     "name": "stderr",
     "output_type": "stream",
     "text": [
      "/var/folders/3z/04dfh84n663cm0t0v83rlcv00000gn/T/ipykernel_4859/3347998392.py:14: FutureWarning: Automatic reindexing on DataFrame vs Series comparisons is deprecated and will raise ValueError in a future version. Do `left, right = left.align(right, axis=1, copy=False)` before e.g. `left == right`\n",
      "  df_no_outliers_iqr = df[~((df[numerical_cols] < lower_bound) | (df[numerical_cols] > upper_bound)).any(axis=1)]\n",
      "/var/folders/3z/04dfh84n663cm0t0v83rlcv00000gn/T/ipykernel_4859/3347998392.py:14: FutureWarning: Automatic reindexing on DataFrame vs Series comparisons is deprecated and will raise ValueError in a future version. Do `left, right = left.align(right, axis=1, copy=False)` before e.g. `left == right`\n",
      "  df_no_outliers_iqr = df[~((df[numerical_cols] < lower_bound) | (df[numerical_cols] > upper_bound)).any(axis=1)]\n"
     ]
    }
   ],
   "source": [
    "# Manually specify numerical columns to check for outliers\n",
    "numerical_cols = ['age', 'bmi', 'blood_pressure', \"glucose_levels\"]\n",
    "\n",
    "# Compute Q1, Q3, and IQR\n",
    "Q1 = df[['age', 'bmi', 'blood_pressure']].quantile(0.25)\n",
    "Q3 = df[['age', 'bmi', 'blood_pressure']].quantile(0.75)\n",
    "IQR = Q3 - Q1\n",
    "\n",
    "# Define outlier bounds\n",
    "lower_bound = Q1 - 1.5 * IQR\n",
    "upper_bound = Q3 + 1.5 * IQR\n",
    "\n",
    "# Filter rows: keep only those that are not outliers in any specified column\n",
    "df_no_outliers_iqr = df[~((df[numerical_cols] < lower_bound) | (df[numerical_cols] > upper_bound)).any(axis=1)]\n",
    "\n",
    "# Display how many rows were removed\n",
    "print(f\"Rows before: {df.shape[0]}\")\n",
    "print(f\"Rows after outlier removal: {df_no_outliers_iqr.shape[0]}\")\n"
   ]
  },
  {
   "cell_type": "markdown",
   "id": "0ca2936d",
   "metadata": {},
   "source": [
    "Conclusion: No outliers were detected in the dataset.\n",
    "\n",
    "Despite performing outlier detection, the number of rows in the dataset remained unchanged at 5445 both before and after the process. This suggests that the data does not contain values that significantly deviate from the overall pattern or distribution, and therefore, no outliers were identified during the analysis. This indicates that the dataset is relatively clean and does not require further adjustment for outlier removal at this stage.\n"
   ]
  },
  {
   "cell_type": "code",
   "execution_count": 10,
   "id": "4a0f47db",
   "metadata": {},
   "outputs": [
    {
     "data": {
      "image/png": "[encoded data removed]",
      "text/plain": [
       "<Figure size 1500x1000 with 4 Axes>"
      ]
     },
     "metadata": {},
     "output_type": "display_data"
    }
   ],
   "source": [
    "# Visualization\n",
    "import matplotlib.pyplot as plt\n",
    "import seaborn as sns\n",
    "\n",
    "plt.figure(figsize=(15, 10))\n",
    "for i, col in enumerate(numerical_cols):\n",
    "    plt.subplot((len(numerical_cols)-1)//3 + 1, 3, i+1)\n",
    "    sns.boxplot(x=df[col])\n",
    "    plt.title(f'Boxplot of {col}')\n",
    "plt.tight_layout()\n",
    "plt.show()\n"
   ]
  },
  {
   "cell_type": "markdown",
   "id": "170d4e9b",
   "metadata": {},
   "source": [
    "# Encoding "
   ]
  },
  {
   "cell_type": "code",
   "execution_count": 11,
   "id": "1012c012",
   "metadata": {},
   "outputs": [
    {
     "data": {
      "text/html": [
       "<div>\n",
       "<style scoped>\n",
       "    .dataframe tbody tr th:only-of-type {\n",
       "        vertical-align: middle;\n",
       "    }\n",
       "\n",
       "    .dataframe tbody tr th {\n",
       "        vertical-align: top;\n",
       "    }\n",
       "\n",
       "    .dataframe thead th {\n",
       "        text-align: right;\n",
       "    }\n",
       "</style>\n",
       "<table border=\"1\" class=\"dataframe\">\n",
       "  <thead>\n",
       "    <tr style=\"text-align: right;\">\n",
       "      <th></th>\n",
       "      <th>gender_female</th>\n",
       "      <th>gender_male</th>\n",
       "      <th>condition</th>\n",
       "      <th>age</th>\n",
       "      <th>bmi</th>\n",
       "      <th>blood_pressure</th>\n",
       "      <th>glucose_levels</th>\n",
       "    </tr>\n",
       "  </thead>\n",
       "  <tbody>\n",
       "    <tr>\n",
       "      <th>0</th>\n",
       "      <td>0.0</td>\n",
       "      <td>1.0</td>\n",
       "      <td>0.0</td>\n",
       "      <td>30.0</td>\n",
       "      <td>29.103009</td>\n",
       "      <td>105.315064</td>\n",
       "      <td>143.202636</td>\n",
       "    </tr>\n",
       "    <tr>\n",
       "      <th>1</th>\n",
       "      <td>0.0</td>\n",
       "      <td>1.0</td>\n",
       "      <td>1.0</td>\n",
       "      <td>18.0</td>\n",
       "      <td>35.612486</td>\n",
       "      <td>139.913482</td>\n",
       "      <td>106.788341</td>\n",
       "    </tr>\n",
       "    <tr>\n",
       "      <th>2</th>\n",
       "      <td>0.0</td>\n",
       "      <td>1.0</td>\n",
       "      <td>0.0</td>\n",
       "      <td>76.0</td>\n",
       "      <td>21.073229</td>\n",
       "      <td>151.657617</td>\n",
       "      <td>150.294896</td>\n",
       "    </tr>\n",
       "    <tr>\n",
       "      <th>3</th>\n",
       "      <td>0.0</td>\n",
       "      <td>1.0</td>\n",
       "      <td>0.0</td>\n",
       "      <td>40.0</td>\n",
       "      <td>33.840723</td>\n",
       "      <td>123.941858</td>\n",
       "      <td>136.151324</td>\n",
       "    </tr>\n",
       "    <tr>\n",
       "      <th>4</th>\n",
       "      <td>0.0</td>\n",
       "      <td>1.0</td>\n",
       "      <td>2.0</td>\n",
       "      <td>49.0</td>\n",
       "      <td>26.109242</td>\n",
       "      <td>118.863841</td>\n",
       "      <td>153.151126</td>\n",
       "    </tr>\n",
       "  </tbody>\n",
       "</table>\n",
       "</div>"
      ],
      "text/plain": [
       "   gender_female  gender_male  condition   age        bmi  blood_pressure  \\\n",
       "0            0.0          1.0        0.0  30.0  29.103009      105.315064   \n",
       "1            0.0          1.0        1.0  18.0  35.612486      139.913482   \n",
       "2            0.0          1.0        0.0  76.0  21.073229      151.657617   \n",
       "3            0.0          1.0        0.0  40.0  33.840723      123.941858   \n",
       "4            0.0          1.0        2.0  49.0  26.109242      118.863841   \n",
       "\n",
       "   glucose_levels  \n",
       "0      143.202636  \n",
       "1      106.788341  \n",
       "2      150.294896  \n",
       "3      136.151324  \n",
       "4      153.151126  "
      ]
     },
     "execution_count": 11,
     "metadata": {},
     "output_type": "execute_result"
    }
   ],
   "source": [
    "from sklearn.preprocessing import LabelEncoder, OneHotEncoder, OrdinalEncoder, StandardScaler\n",
    "from sklearn.compose import ColumnTransformer\n",
    "import pandas as pd\n",
    "\n",
    "# Step 1: Separate features and target\n",
    "y = df['smoking_status'] \n",
    "encod3 = LabelEncoder()\n",
    "y = encod3.fit_transform(y) \n",
    "\n",
    "# Step 2: Define columns for encoding\n",
    "onehot_cols = [\"gender\"]\n",
    "ordinal_cols = [\"condition\"]\n",
    "feature_cols = [col for col in df.columns if col not in ([\"smoking_status\"])]  # all features except target\n",
    "\n",
    "# Step 3: Define ColumnTransformer\n",
    "ct = ColumnTransformer(transformers=[\n",
    "    ('gender_onehot', OneHotEncoder(sparse_output=False, handle_unknown='ignore'), onehot_cols),\n",
    "    ('condition_ordinal', OrdinalEncoder(categories=[[\"Diabetic\", \"Pneumonia\", \"Cancer\"]]), ordinal_cols)\n",
    "], remainder=\"passthrough\")\n",
    "\n",
    "# Step 4: Fit and transform only features\n",
    "X = ct.fit_transform(df[feature_cols])  # Only features, not target\n",
    "\n",
    "# Step 5: Create column names for the new DataFrame\n",
    "new_columns = []\n",
    "new_columns += list(ct.named_transformers_['gender_onehot'].get_feature_names_out(onehot_cols))  # OneHot names\n",
    "new_columns += ordinal_cols  # Ordinal names\n",
    "# Passthrough columns: all columns not encoded\n",
    "passthrough_cols = [col for col in feature_cols if col not in onehot_cols + ordinal_cols]\n",
    "new_columns += passthrough_cols\n",
    "\n",
    "# Step 6: Reconstruct final X DataFrame\n",
    "X = pd.DataFrame(X, columns=new_columns)\n",
    "X.head()"
   ]
  },
  {
   "cell_type": "markdown",
   "id": "8d7de336",
   "metadata": {},
   "source": [
    "# Scaling "
   ]
  },
  {
   "cell_type": "code",
   "execution_count": 12,
   "id": "e945d427",
   "metadata": {},
   "outputs": [
    {
     "name": "stderr",
     "output_type": "stream",
     "text": [
      "/var/folders/3z/04dfh84n663cm0t0v83rlcv00000gn/T/ipykernel_4859/2021023578.py:6: SettingWithCopyWarning: \n",
      "A value is trying to be set on a copy of a slice from a DataFrame.\n",
      "Try using .loc[row_indexer,col_indexer] = value instead\n",
      "\n",
      "See the caveats in the documentation: https://pandas.pydata.org/pandas-docs/stable/user_guide/indexing.html#returning-a-view-versus-a-copy\n",
      "  df[columns_to_scale] = scaler.fit_transform(df[columns_to_scale])\n"
     ]
    },
    {
     "data": {
      "text/html": [
       "<div>\n",
       "<style scoped>\n",
       "    .dataframe tbody tr th:only-of-type {\n",
       "        vertical-align: middle;\n",
       "    }\n",
       "\n",
       "    .dataframe tbody tr th {\n",
       "        vertical-align: top;\n",
       "    }\n",
       "\n",
       "    .dataframe thead th {\n",
       "        text-align: right;\n",
       "    }\n",
       "</style>\n",
       "<table border=\"1\" class=\"dataframe\">\n",
       "  <thead>\n",
       "    <tr style=\"text-align: right;\">\n",
       "      <th></th>\n",
       "      <th>age</th>\n",
       "      <th>gender</th>\n",
       "      <th>smoking_status</th>\n",
       "      <th>bmi</th>\n",
       "      <th>blood_pressure</th>\n",
       "      <th>glucose_levels</th>\n",
       "      <th>condition</th>\n",
       "    </tr>\n",
       "  </thead>\n",
       "  <tbody>\n",
       "    <tr>\n",
       "      <th>0</th>\n",
       "      <td>-1.125144</td>\n",
       "      <td>male</td>\n",
       "      <td>Non-Smoker</td>\n",
       "      <td>0.220839</td>\n",
       "      <td>-1.624872</td>\n",
       "      <td>0.249628</td>\n",
       "      <td>Diabetic</td>\n",
       "    </tr>\n",
       "    <tr>\n",
       "      <th>1</th>\n",
       "      <td>-1.698670</td>\n",
       "      <td>male</td>\n",
       "      <td>Non-Smoker</td>\n",
       "      <td>1.408869</td>\n",
       "      <td>0.231831</td>\n",
       "      <td>-1.033476</td>\n",
       "      <td>Pneumonia</td>\n",
       "    </tr>\n",
       "    <tr>\n",
       "      <th>2</th>\n",
       "      <td>1.073374</td>\n",
       "      <td>male</td>\n",
       "      <td>Non-Smoker</td>\n",
       "      <td>-1.244659</td>\n",
       "      <td>0.862073</td>\n",
       "      <td>0.499533</td>\n",
       "      <td>Diabetic</td>\n",
       "    </tr>\n",
       "    <tr>\n",
       "      <th>3</th>\n",
       "      <td>-0.647205</td>\n",
       "      <td>male</td>\n",
       "      <td>Non-Smoker</td>\n",
       "      <td>1.085509</td>\n",
       "      <td>-0.625276</td>\n",
       "      <td>0.001166</td>\n",
       "      <td>Diabetic</td>\n",
       "    </tr>\n",
       "    <tr>\n",
       "      <th>4</th>\n",
       "      <td>-0.217060</td>\n",
       "      <td>male</td>\n",
       "      <td>Smoker</td>\n",
       "      <td>-0.325547</td>\n",
       "      <td>-0.897785</td>\n",
       "      <td>0.600176</td>\n",
       "      <td>Cancer</td>\n",
       "    </tr>\n",
       "  </tbody>\n",
       "</table>\n",
       "</div>"
      ],
      "text/plain": [
       "        age gender smoking_status       bmi  blood_pressure  glucose_levels  \\\n",
       "0 -1.125144   male     Non-Smoker  0.220839       -1.624872        0.249628   \n",
       "1 -1.698670   male     Non-Smoker  1.408869        0.231831       -1.033476   \n",
       "2  1.073374   male     Non-Smoker -1.244659        0.862073        0.499533   \n",
       "3 -0.647205   male     Non-Smoker  1.085509       -0.625276        0.001166   \n",
       "4 -0.217060   male         Smoker -0.325547       -0.897785        0.600176   \n",
       "\n",
       "   condition  \n",
       "0   Diabetic  \n",
       "1  Pneumonia  \n",
       "2   Diabetic  \n",
       "3   Diabetic  \n",
       "4     Cancer  "
      ]
     },
     "execution_count": 12,
     "metadata": {},
     "output_type": "execute_result"
    }
   ],
   "source": [
    "from sklearn.preprocessing import StandardScaler\n",
    "# Specify the columns to scale\n",
    "columns_to_scale = ['age', 'bmi', 'blood_pressure', 'glucose_levels']\n",
    "scaler = StandardScaler()\n",
    "# Fit and transform \n",
    "df[columns_to_scale] = scaler.fit_transform(df[columns_to_scale])\n",
    "df.head()  "
   ]
  },
  {
   "cell_type": "markdown",
   "id": "e5a094ff",
   "metadata": {},
   "source": [
    "# 2. Model Training and Evaluation "
   ]
  },
  {
   "cell_type": "markdown",
   "id": "8883864e",
   "metadata": {},
   "source": [
    "I chose to evaluate **Logistic Regression, Random Forest, and Support Vector Machine (SVM)** models for this dataset to identify the most effective approach for predicting smoking status (smoker or non-smoker). **Logistic Regression** was selected for its simplicity, interpretability, and suitability for binary classification. It provides clear insights into how each feature—such as age, gender, and income—influences the likelihood of smoking, which is valuable for explaining the results. **Random Forest** was included due to its ability to capture complex, non-linear patterns and handle feature interactions automatically, making it robust and less prone to overfitting. It also handles imbalanced data more effectively through its ensemble nature. **SVM** was considered because of its effectiveness in high-dimensional spaces and its strong theoretical foundations for binary classification tasks. By comparing these three models, I was able to balance interpretability, predictive performance, and robustness, ultimately helping to identify the most appropriate model for this classification problem.\n"
   ]
  },
  {
   "cell_type": "markdown",
   "id": "59b655d4",
   "metadata": {},
   "source": [
    "# Train Test Split "
   ]
  },
  {
   "cell_type": "code",
   "execution_count": 13,
   "id": "d5c5c60e",
   "metadata": {},
   "outputs": [],
   "source": [
    "X_train, X_test, y_train, y_test = train_test_split(X, y, test_size=0.2, random_state=42, stratify=y)"
   ]
  },
  {
   "cell_type": "markdown",
   "id": "a51f68ef",
   "metadata": {},
   "source": [
    "# Model 1 - Logistic Regression "
   ]
  },
  {
   "cell_type": "code",
   "execution_count": 14,
   "id": "d37a8e45",
   "metadata": {},
   "outputs": [
    {
     "data": {
      "text/html": [
       "<style>#sk-container-id-1 {color: black;}#sk-container-id-1 pre{padding: 0;}#sk-container-id-1 div.sk-toggleable {background-color: white;}#sk-container-id-1 label.sk-toggleable__label {cursor: pointer;display: block;width: 100%;margin-bottom: 0;padding: 0.3em;box-sizing: border-box;text-align: center;}#sk-container-id-1 label.sk-toggleable__label-arrow:before {content: \"▸\";float: left;margin-right: 0.25em;color: #696969;}#sk-container-id-1 label.sk-toggleable__label-arrow:hover:before {color: black;}#sk-container-id-1 div.sk-estimator:hover label.sk-toggleable__label-arrow:before {color: black;}#sk-container-id-1 div.sk-toggleable__content {max-height: 0;max-width: 0;overflow: hidden;text-align: left;background-color: #f0f8ff;}#sk-container-id-1 div.sk-toggleable__content pre {margin: 0.2em;color: black;border-radius: 0.25em;background-color: #f0f8ff;}#sk-container-id-1 input.sk-toggleable__control:checked~div.sk-toggleable__content {max-height: 200px;max-width: 100%;overflow: auto;}#sk-container-id-1 input.sk-toggleable__control:checked~label.sk-toggleable__label-arrow:before {content: \"▾\";}#sk-container-id-1 div.sk-estimator input.sk-toggleable__control:checked~label.sk-toggleable__label {background-color: #d4ebff;}#sk-container-id-1 div.sk-label input.sk-toggleable__control:checked~label.sk-toggleable__label {background-color: #d4ebff;}#sk-container-id-1 input.sk-hidden--visually {border: 0;clip: rect(1px 1px 1px 1px);clip: rect(1px, 1px, 1px, 1px);height: 1px;margin: -1px;overflow: hidden;padding: 0;position: absolute;width: 1px;}#sk-container-id-1 div.sk-estimator {font-family: monospace;background-color: #f0f8ff;border: 1px dotted black;border-radius: 0.25em;box-sizing: border-box;margin-bottom: 0.5em;}#sk-container-id-1 div.sk-estimator:hover {background-color: #d4ebff;}#sk-container-id-1 div.sk-parallel-item::after {content: \"\";width: 100%;border-bottom: 1px solid gray;flex-grow: 1;}#sk-container-id-1 div.sk-label:hover label.sk-toggleable__label {background-color: #d4ebff;}#sk-container-id-1 div.sk-serial::before {content: \"\";position: absolute;border-left: 1px solid gray;box-sizing: border-box;top: 0;bottom: 0;left: 50%;z-index: 0;}#sk-container-id-1 div.sk-serial {display: flex;flex-direction: column;align-items: center;background-color: white;padding-right: 0.2em;padding-left: 0.2em;position: relative;}#sk-container-id-1 div.sk-item {position: relative;z-index: 1;}#sk-container-id-1 div.sk-parallel {display: flex;align-items: stretch;justify-content: center;background-color: white;position: relative;}#sk-container-id-1 div.sk-item::before, #sk-container-id-1 div.sk-parallel-item::before {content: \"\";position: absolute;border-left: 1px solid gray;box-sizing: border-box;top: 0;bottom: 0;left: 50%;z-index: -1;}#sk-container-id-1 div.sk-parallel-item {display: flex;flex-direction: column;z-index: 1;position: relative;background-color: white;}#sk-container-id-1 div.sk-parallel-item:first-child::after {align-self: flex-end;width: 50%;}#sk-container-id-1 div.sk-parallel-item:last-child::after {align-self: flex-start;width: 50%;}#sk-container-id-1 div.sk-parallel-item:only-child::after {width: 0;}#sk-container-id-1 div.sk-dashed-wrapped {border: 1px dashed gray;margin: 0 0.4em 0.5em 0.4em;box-sizing: border-box;padding-bottom: 0.4em;background-color: white;}#sk-container-id-1 div.sk-label label {font-family: monospace;font-weight: bold;display: inline-block;line-height: 1.2em;}#sk-container-id-1 div.sk-label-container {text-align: center;}#sk-container-id-1 div.sk-container {/* jupyter's `normalize.less` sets `[hidden] { display: none; }` but bootstrap.min.css set `[hidden] { display: none !important; }` so we also need the `!important` here to be able to override the default hidden behavior on the sphinx rendered scikit-learn.org. See: https://github.com/scikit-learn/scikit-learn/issues/21755 */display: inline-block !important;position: relative;}#sk-container-id-1 div.sk-text-repr-fallback {display: none;}</style><div id=\"sk-container-id-1\" class=\"sk-top-container\"><div class=\"sk-text-repr-fallback\"><pre>LogisticRegression(max_iter=1000)</pre><b>In a Jupyter environment, please rerun this cell to show the HTML representation or trust the notebook. <br />On GitHub, the HTML representation is unable to render, please try loading this page with nbviewer.org.</b></div><div class=\"sk-container\" hidden><div class=\"sk-item\"><div class=\"sk-estimator sk-toggleable\"><input class=\"sk-toggleable__control sk-hidden--visually\" id=\"sk-estimator-id-1\" type=\"checkbox\" checked><label for=\"sk-estimator-id-1\" class=\"sk-toggleable__label sk-toggleable__label-arrow\">LogisticRegression</label><div class=\"sk-toggleable__content\"><pre>LogisticRegression(max_iter=1000)</pre></div></div></div></div></div>"
      ],
      "text/plain": [
       "LogisticRegression(max_iter=1000)"
      ]
     },
     "execution_count": 14,
     "metadata": {},
     "output_type": "execute_result"
    }
   ],
   "source": [
    "model = LogisticRegression(max_iter=1000)\n",
    "model.fit(X_train, y_train)\n",
    "y_pred = model.predict(X_test)\n",
    "model"
   ]
  },
  {
   "cell_type": "markdown",
   "id": "0dfdfca2",
   "metadata": {},
   "source": [
    "# Evaluation Metrics "
   ]
  },
  {
   "cell_type": "code",
   "execution_count": 15,
   "id": "ffe64d6f",
   "metadata": {},
   "outputs": [
    {
     "name": "stdout",
     "output_type": "stream",
     "text": [
      "Accuracy:  0.9027\n",
      "Precision (Macro): 0.4513\n",
      "Recall (Macro):    0.5000\n",
      "F1 Score (Macro):  0.4744\n",
      "\n",
      "Confusion Matrix:\n",
      "[[983   0]\n",
      " [106   0]]\n"
     ]
    }
   ],
   "source": [
    "from sklearn.linear_model import LogisticRegression\n",
    "from sklearn.metrics import accuracy_score, precision_score, recall_score, f1_score, classification_report, confusion_matrix\n",
    "\n",
    "\n",
    "accuracy = accuracy_score(y_test, y_pred)\n",
    "precision = precision_score(y_test, y_pred, average='macro', zero_division=0)\n",
    "recall = recall_score(y_test, y_pred, average='macro', zero_division=0)\n",
    "f1 = f1_score(y_test, y_pred, average='macro', zero_division=0)\n",
    "cm = confusion_matrix(y_test, y_pred)\n",
    "\n",
    "\n",
    "print(f\"Accuracy:  {accuracy:.4f}\")\n",
    "print(f\"Precision (Macro): {precision:.4f}\")\n",
    "print(f\"Recall (Macro):    {recall:.4f}\")\n",
    "print(f\"F1 Score (Macro):  {f1:.4f}\")\n",
    "print(\"\\nConfusion Matrix:\")\n",
    "print(cm)\n"
   ]
  },
  {
   "cell_type": "markdown",
   "id": "2b6381ba",
   "metadata": {},
   "source": [
    "# Cross Validation "
   ]
  },
  {
   "cell_type": "code",
   "execution_count": 32,
   "id": "9f690125",
   "metadata": {},
   "outputs": [
    {
     "data": {
      "text/plain": [
       "array([0.90252294, 0.90355913, 0.90241102, 0.90241102, 0.90241102])"
      ]
     },
     "execution_count": 32,
     "metadata": {},
     "output_type": "execute_result"
    }
   ],
   "source": [
    "from sklearn.model_selection import cross_val_score\n",
    "cross_val_score(model, X_train, y_train, cv=5, scoring='accuracy')"
   ]
  },
  {
   "cell_type": "markdown",
   "id": "9fb1f946",
   "metadata": {},
   "source": [
    "# 3. Hyperparameter Tuning using best parameters "
   ]
  },
  {
   "cell_type": "code",
   "execution_count": 17,
   "id": "5a122f8b",
   "metadata": {},
   "outputs": [],
   "source": [
    "from sklearn.preprocessing import StandardScaler\n",
    "from sklearn.compose import ColumnTransformer\n",
    "from sklearn.linear_model import LogisticRegression\n",
    "from sklearn.metrics import classification_report\n",
    "\n",
    "# Define numeric features (already one-hot encoded)\n",
    "numeric_features = [\n",
    "    'age', 'bmi', 'blood_pressure', 'glucose_levels', \n",
    "    'gender_female', 'gender_male', 'condition'\n",
    "]\n",
    "\n",
    "# Preprocessing: scale numeric features only\n",
    "preprocessor = ColumnTransformer(transformers=[\n",
    "    ('num', StandardScaler(), numeric_features)\n",
    "], remainder='passthrough')\n",
    "\n",
    "# Fit and transform X_train, transform X_test\n",
    "X_train_scaled = preprocessor.fit_transform(X_train)\n",
    "X_test_scaled = preprocessor.transform(X_test)\n",
    "\n",
    "# Train Logistic Regression with best params\n",
    "final_model = LogisticRegression(\n",
    "    C=0.01,\n",
    "    penalty='l2',\n",
    "    solver='lbfgs',\n",
    "    max_iter=100,\n",
    "    fit_intercept=True,\n",
    "    random_state=42,\n",
    "    class_weight='balanced'\n",
    ")\n",
    "final_model.fit(X_train_scaled, y_train)\n",
    "\n",
    "# Predict on test set\n",
    "y_pred = final_model.predict(X_test_scaled)"
   ]
  },
  {
   "cell_type": "markdown",
   "id": "f50ff8f1",
   "metadata": {},
   "source": [
    "# New Evaluation Metrics"
   ]
  },
  {
   "cell_type": "code",
   "execution_count": 18,
   "id": "a4aa0872",
   "metadata": {},
   "outputs": [
    {
     "name": "stdout",
     "output_type": "stream",
     "text": [
      "Accuracy: 0.4298\n",
      "Precision (Macro): 0.5135\n",
      "Recall (Macro): 0.5368\n",
      "F1 Score (Macro): 0.3736\n",
      "\n",
      "Confusion Matrix:\n",
      "[[397 586]\n",
      " [ 35  71]]\n"
     ]
    }
   ],
   "source": [
    "from sklearn.metrics import accuracy_score, precision_score, recall_score, f1_score, confusion_matrix, classification_report, roc_auc_score\n",
    "\n",
    "# Accuracy\n",
    "accuracy = accuracy_score(y_test, y_pred)\n",
    "print(f\"Accuracy: {accuracy:.4f}\")\n",
    "\n",
    "# Precision (macro)\n",
    "precision = precision_score(y_test, y_pred, average='macro')\n",
    "print(f\"Precision (Macro): {precision:.4f}\")\n",
    "\n",
    "# Recall (macro)\n",
    "recall = recall_score(y_test, y_pred, average='macro')\n",
    "print(f\"Recall (Macro): {recall:.4f}\")\n",
    "\n",
    "# F1 Score (macro)\n",
    "f1 = f1_score(y_test, y_pred, average='macro')\n",
    "print(f\"F1 Score (Macro): {f1:.4f}\")\n",
    "\n",
    "# Confusion Matrix\n",
    "conf_matrix = confusion_matrix(y_test, y_pred)\n",
    "print(\"\\nConfusion Matrix:\")\n",
    "print(conf_matrix)"
   ]
  },
  {
   "cell_type": "markdown",
   "id": "1919df0c",
   "metadata": {},
   "source": [
    "# Model 2 - Random Forest "
   ]
  },
  {
   "cell_type": "code",
   "execution_count": 19,
   "id": "acdf9fcd",
   "metadata": {},
   "outputs": [
    {
     "data": {
      "text/html": [
       "<style>#sk-container-id-2 {color: black;}#sk-container-id-2 pre{padding: 0;}#sk-container-id-2 div.sk-toggleable {background-color: white;}#sk-container-id-2 label.sk-toggleable__label {cursor: pointer;display: block;width: 100%;margin-bottom: 0;padding: 0.3em;box-sizing: border-box;text-align: center;}#sk-container-id-2 label.sk-toggleable__label-arrow:before {content: \"▸\";float: left;margin-right: 0.25em;color: #696969;}#sk-container-id-2 label.sk-toggleable__label-arrow:hover:before {color: black;}#sk-container-id-2 div.sk-estimator:hover label.sk-toggleable__label-arrow:before {color: black;}#sk-container-id-2 div.sk-toggleable__content {max-height: 0;max-width: 0;overflow: hidden;text-align: left;background-color: #f0f8ff;}#sk-container-id-2 div.sk-toggleable__content pre {margin: 0.2em;color: black;border-radius: 0.25em;background-color: #f0f8ff;}#sk-container-id-2 input.sk-toggleable__control:checked~div.sk-toggleable__content {max-height: 200px;max-width: 100%;overflow: auto;}#sk-container-id-2 input.sk-toggleable__control:checked~label.sk-toggleable__label-arrow:before {content: \"▾\";}#sk-container-id-2 div.sk-estimator input.sk-toggleable__control:checked~label.sk-toggleable__label {background-color: #d4ebff;}#sk-container-id-2 div.sk-label input.sk-toggleable__control:checked~label.sk-toggleable__label {background-color: #d4ebff;}#sk-container-id-2 input.sk-hidden--visually {border: 0;clip: rect(1px 1px 1px 1px);clip: rect(1px, 1px, 1px, 1px);height: 1px;margin: -1px;overflow: hidden;padding: 0;position: absolute;width: 1px;}#sk-container-id-2 div.sk-estimator {font-family: monospace;background-color: #f0f8ff;border: 1px dotted black;border-radius: 0.25em;box-sizing: border-box;margin-bottom: 0.5em;}#sk-container-id-2 div.sk-estimator:hover {background-color: #d4ebff;}#sk-container-id-2 div.sk-parallel-item::after {content: \"\";width: 100%;border-bottom: 1px solid gray;flex-grow: 1;}#sk-container-id-2 div.sk-label:hover label.sk-toggleable__label {background-color: #d4ebff;}#sk-container-id-2 div.sk-serial::before {content: \"\";position: absolute;border-left: 1px solid gray;box-sizing: border-box;top: 0;bottom: 0;left: 50%;z-index: 0;}#sk-container-id-2 div.sk-serial {display: flex;flex-direction: column;align-items: center;background-color: white;padding-right: 0.2em;padding-left: 0.2em;position: relative;}#sk-container-id-2 div.sk-item {position: relative;z-index: 1;}#sk-container-id-2 div.sk-parallel {display: flex;align-items: stretch;justify-content: center;background-color: white;position: relative;}#sk-container-id-2 div.sk-item::before, #sk-container-id-2 div.sk-parallel-item::before {content: \"\";position: absolute;border-left: 1px solid gray;box-sizing: border-box;top: 0;bottom: 0;left: 50%;z-index: -1;}#sk-container-id-2 div.sk-parallel-item {display: flex;flex-direction: column;z-index: 1;position: relative;background-color: white;}#sk-container-id-2 div.sk-parallel-item:first-child::after {align-self: flex-end;width: 50%;}#sk-container-id-2 div.sk-parallel-item:last-child::after {align-self: flex-start;width: 50%;}#sk-container-id-2 div.sk-parallel-item:only-child::after {width: 0;}#sk-container-id-2 div.sk-dashed-wrapped {border: 1px dashed gray;margin: 0 0.4em 0.5em 0.4em;box-sizing: border-box;padding-bottom: 0.4em;background-color: white;}#sk-container-id-2 div.sk-label label {font-family: monospace;font-weight: bold;display: inline-block;line-height: 1.2em;}#sk-container-id-2 div.sk-label-container {text-align: center;}#sk-container-id-2 div.sk-container {/* jupyter's `normalize.less` sets `[hidden] { display: none; }` but bootstrap.min.css set `[hidden] { display: none !important; }` so we also need the `!important` here to be able to override the default hidden behavior on the sphinx rendered scikit-learn.org. See: https://github.com/scikit-learn/scikit-learn/issues/21755 */display: inline-block !important;position: relative;}#sk-container-id-2 div.sk-text-repr-fallback {display: none;}</style><div id=\"sk-container-id-2\" class=\"sk-top-container\"><div class=\"sk-text-repr-fallback\"><pre>RandomForestClassifier(random_state=42)</pre><b>In a Jupyter environment, please rerun this cell to show the HTML representation or trust the notebook. <br />On GitHub, the HTML representation is unable to render, please try loading this page with nbviewer.org.</b></div><div class=\"sk-container\" hidden><div class=\"sk-item\"><div class=\"sk-estimator sk-toggleable\"><input class=\"sk-toggleable__control sk-hidden--visually\" id=\"sk-estimator-id-2\" type=\"checkbox\" checked><label for=\"sk-estimator-id-2\" class=\"sk-toggleable__label sk-toggleable__label-arrow\">RandomForestClassifier</label><div class=\"sk-toggleable__content\"><pre>RandomForestClassifier(random_state=42)</pre></div></div></div></div></div>"
      ],
      "text/plain": [
       "RandomForestClassifier(random_state=42)"
      ]
     },
     "execution_count": 19,
     "metadata": {},
     "output_type": "execute_result"
    }
   ],
   "source": [
    "from sklearn.ensemble import RandomForestClassifier\n",
    "rf_model = RandomForestClassifier(random_state=42)\n",
    "rf_model.fit(X_train, y_train)\n",
    "y_pred_rf = rf_model.predict(X_test)\n",
    "rf_model"
   ]
  },
  {
   "cell_type": "markdown",
   "id": "3a7101d4",
   "metadata": {},
   "source": [
    "# Evaluation Metrics"
   ]
  },
  {
   "cell_type": "code",
   "execution_count": 33,
   "id": "3fb239d7",
   "metadata": {},
   "outputs": [
    {
     "name": "stdout",
     "output_type": "stream",
     "text": [
      "Random Forest Classifier Evaluation Metrics:\n",
      "Accuracy: 0.8999\n",
      "Precision (Macro): 0.4512\n",
      "Recall (Macro): 0.4985\n",
      "F1 Score (Macro): 0.4737\n",
      "OOB Score: 0.8965\n",
      "\n",
      "Confusion Matrix:\n",
      "[[980   3]\n",
      " [106   0]]\n"
     ]
    }
   ],
   "source": [
    "from sklearn.ensemble import RandomForestClassifier\n",
    "from sklearn.metrics import accuracy_score, precision_score, recall_score, f1_score, classification_report, confusion_matrix\n",
    "\n",
    "# Train Random Forest with OOB score enabled\n",
    "rf_model = RandomForestClassifier(random_state=42, oob_score=True)\n",
    "rf_model.fit(X_train, y_train)\n",
    "\n",
    "# Predictions\n",
    "y_pred_rf = rf_model.predict(X_test)\n",
    "\n",
    "# Accuracy\n",
    "accuracy = accuracy_score(y_test, y_pred_rf)\n",
    "\n",
    "# Precision, Recall, F1 (macro averages for multiclass fairness)\n",
    "precision = precision_score(y_test, y_pred_rf, average='macro', zero_division=0)\n",
    "recall = recall_score(y_test, y_pred_rf, average='macro', zero_division=0)\n",
    "f1 = f1_score(y_test, y_pred_rf, average='macro', zero_division=0)\n",
    "\n",
    "# Confusion Matrix\n",
    "conf_matrix = confusion_matrix(y_test, y_pred_rf)\n",
    "\n",
    "# OOB Score\n",
    "oob_score = rf_model.oob_score_\n",
    "\n",
    "# Print metrics\n",
    "print(\"Random Forest Classifier Evaluation Metrics:\")\n",
    "print(f\"Accuracy: {accuracy:.4f}\")\n",
    "print(f\"Precision (Macro): {precision:.4f}\")\n",
    "print(f\"Recall (Macro): {recall:.4f}\")\n",
    "print(f\"F1 Score (Macro): {f1:.4f}\")\n",
    "print(f\"OOB Score: {oob_score:.4f}\")\n",
    "print(\"\\nConfusion Matrix:\")\n",
    "print(conf_matrix)\n"
   ]
  },
  {
   "cell_type": "markdown",
   "id": "c20d938b",
   "metadata": {},
   "source": [
    "# Cross Validation "
   ]
  },
  {
   "cell_type": "code",
   "execution_count": 21,
   "id": "fb2f6655",
   "metadata": {},
   "outputs": [
    {
     "data": {
      "text/plain": [
       "array([0.89793578, 0.8978186 , 0.8978186 , 0.8978186 , 0.8978186 ])"
      ]
     },
     "execution_count": 21,
     "metadata": {},
     "output_type": "execute_result"
    }
   ],
   "source": [
    "from sklearn.model_selection import cross_val_score\n",
    "cross_val_score(rf_model, X_train, y_train, cv=5, scoring='accuracy')"
   ]
  },
  {
   "cell_type": "markdown",
   "id": "b64a4966",
   "metadata": {},
   "source": [
    "# Hyperparameter Tuning using best parameters "
   ]
  },
  {
   "cell_type": "code",
   "execution_count": 22,
   "id": "147b2988",
   "metadata": {},
   "outputs": [],
   "source": [
    "from sklearn.ensemble import RandomForestClassifier\n",
    "from sklearn.model_selection import GridSearchCV\n",
    "from sklearn.pipeline import Pipeline\n",
    "from sklearn.metrics import classification_report\n",
    "\n",
    "# Define the preprocessing pipeline\n",
    "preprocessor = ColumnTransformer(transformers=[\n",
    "    ('num', StandardScaler(), numeric_features)\n",
    "], remainder='passthrough')\n",
    "\n",
    "# Create a pipeline with preprocessing and Random Forest\n",
    "rf_pipeline = Pipeline(steps=[\n",
    "    ('preprocessor', preprocessor),\n",
    "    ('classifier', RandomForestClassifier(random_state=42))\n",
    "])\n",
    "\n",
    "# Hyperparameter grid for Random Forest\n",
    "rf_param_grid = {\n",
    "    'classifier__n_estimators': [100, 200],\n",
    "    'classifier__max_depth': [None, 10, 20],\n",
    "    'classifier__min_samples_split': [2, 5],\n",
    "    'classifier__min_samples_leaf': [1, 2]\n",
    "}\n",
    "\n",
    "# Grid search\n",
    "rf_grid_search = GridSearchCV(rf_pipeline, rf_param_grid, cv=5, scoring='f1_macro', n_jobs=-1)\n",
    "rf_grid_search.fit(X_train, y_train)\n",
    "\n",
    "# Best model and predictions\n",
    "best_rf = rf_grid_search.best_estimator_\n",
    "y_pred_rf = best_rf.predict(X_test)\n"
   ]
  },
  {
   "cell_type": "markdown",
   "id": "e3c610a8",
   "metadata": {},
   "source": [
    "# New Evaluation Metrics"
   ]
  },
  {
   "cell_type": "code",
   "execution_count": 34,
   "id": "856d5712",
   "metadata": {},
   "outputs": [
    {
     "name": "stdout",
     "output_type": "stream",
     "text": [
      "Random Forest Classifier Evaluation Metrics:\n",
      "Accuracy: 0.8999081726354453\n",
      "Precision (Macro): 0.45119705340699817\n",
      "Recall (Macro): 0.49847405900305186\n",
      "F1 Score (Macro): 0.4736587723537941\n",
      "OOB Score: 0.8964646464646465\n",
      "Confusion Matrix:\n",
      " [[980   3]\n",
      " [106   0]]\n",
      "\n",
      "\n"
     ]
    }
   ],
   "source": [
    "from sklearn.ensemble import RandomForestClassifier\n",
    "from sklearn.metrics import accuracy_score, precision_score, recall_score, f1_score, confusion_matrix\n",
    "\n",
    "# Re-train Random Forest with OOB score enabled\n",
    "rf_model = RandomForestClassifier(random_state=42, oob_score=True)\n",
    "rf_model.fit(X_train, y_train)\n",
    "\n",
    "# --- Random Forest Evaluation ---\n",
    "y_pred_rf = rf_model.predict(X_test)\n",
    "\n",
    "# Evaluation Metrics\n",
    "print(\"Random Forest Classifier Evaluation Metrics:\")\n",
    "print(\"Accuracy:\", accuracy_score(y_test, y_pred_rf))\n",
    "print(\"Precision (Macro):\", precision_score(y_test, y_pred_rf, average='macro', zero_division=0))\n",
    "print(\"Recall (Macro):\", recall_score(y_test, y_pred_rf, average='macro', zero_division=0))\n",
    "print(\"F1 Score (Macro):\", f1_score(y_test, y_pred_rf, average='macro', zero_division=0))\n",
    "print(\"OOB Score:\", rf_model.oob_score_)\n",
    "print(\"Confusion Matrix:\\n\", confusion_matrix(y_test, y_pred_rf))\n",
    "print(\"\\n\")\n"
   ]
  },
  {
   "cell_type": "markdown",
   "id": "df9d2619",
   "metadata": {},
   "source": [
    "# Model 3 - SVM (Support Vector Machine)"
   ]
  },
  {
   "cell_type": "code",
   "execution_count": 24,
   "id": "af15486e",
   "metadata": {},
   "outputs": [
    {
     "data": {
      "text/html": [
       "<style>#sk-container-id-3 {color: black;}#sk-container-id-3 pre{padding: 0;}#sk-container-id-3 div.sk-toggleable {background-color: white;}#sk-container-id-3 label.sk-toggleable__label {cursor: pointer;display: block;width: 100%;margin-bottom: 0;padding: 0.3em;box-sizing: border-box;text-align: center;}#sk-container-id-3 label.sk-toggleable__label-arrow:before {content: \"▸\";float: left;margin-right: 0.25em;color: #696969;}#sk-container-id-3 label.sk-toggleable__label-arrow:hover:before {color: black;}#sk-container-id-3 div.sk-estimator:hover label.sk-toggleable__label-arrow:before {color: black;}#sk-container-id-3 div.sk-toggleable__content {max-height: 0;max-width: 0;overflow: hidden;text-align: left;background-color: #f0f8ff;}#sk-container-id-3 div.sk-toggleable__content pre {margin: 0.2em;color: black;border-radius: 0.25em;background-color: #f0f8ff;}#sk-container-id-3 input.sk-toggleable__control:checked~div.sk-toggleable__content {max-height: 200px;max-width: 100%;overflow: auto;}#sk-container-id-3 input.sk-toggleable__control:checked~label.sk-toggleable__label-arrow:before {content: \"▾\";}#sk-container-id-3 div.sk-estimator input.sk-toggleable__control:checked~label.sk-toggleable__label {background-color: #d4ebff;}#sk-container-id-3 div.sk-label input.sk-toggleable__control:checked~label.sk-toggleable__label {background-color: #d4ebff;}#sk-container-id-3 input.sk-hidden--visually {border: 0;clip: rect(1px 1px 1px 1px);clip: rect(1px, 1px, 1px, 1px);height: 1px;margin: -1px;overflow: hidden;padding: 0;position: absolute;width: 1px;}#sk-container-id-3 div.sk-estimator {font-family: monospace;background-color: #f0f8ff;border: 1px dotted black;border-radius: 0.25em;box-sizing: border-box;margin-bottom: 0.5em;}#sk-container-id-3 div.sk-estimator:hover {background-color: #d4ebff;}#sk-container-id-3 div.sk-parallel-item::after {content: \"\";width: 100%;border-bottom: 1px solid gray;flex-grow: 1;}#sk-container-id-3 div.sk-label:hover label.sk-toggleable__label {background-color: #d4ebff;}#sk-container-id-3 div.sk-serial::before {content: \"\";position: absolute;border-left: 1px solid gray;box-sizing: border-box;top: 0;bottom: 0;left: 50%;z-index: 0;}#sk-container-id-3 div.sk-serial {display: flex;flex-direction: column;align-items: center;background-color: white;padding-right: 0.2em;padding-left: 0.2em;position: relative;}#sk-container-id-3 div.sk-item {position: relative;z-index: 1;}#sk-container-id-3 div.sk-parallel {display: flex;align-items: stretch;justify-content: center;background-color: white;position: relative;}#sk-container-id-3 div.sk-item::before, #sk-container-id-3 div.sk-parallel-item::before {content: \"\";position: absolute;border-left: 1px solid gray;box-sizing: border-box;top: 0;bottom: 0;left: 50%;z-index: -1;}#sk-container-id-3 div.sk-parallel-item {display: flex;flex-direction: column;z-index: 1;position: relative;background-color: white;}#sk-container-id-3 div.sk-parallel-item:first-child::after {align-self: flex-end;width: 50%;}#sk-container-id-3 div.sk-parallel-item:last-child::after {align-self: flex-start;width: 50%;}#sk-container-id-3 div.sk-parallel-item:only-child::after {width: 0;}#sk-container-id-3 div.sk-dashed-wrapped {border: 1px dashed gray;margin: 0 0.4em 0.5em 0.4em;box-sizing: border-box;padding-bottom: 0.4em;background-color: white;}#sk-container-id-3 div.sk-label label {font-family: monospace;font-weight: bold;display: inline-block;line-height: 1.2em;}#sk-container-id-3 div.sk-label-container {text-align: center;}#sk-container-id-3 div.sk-container {/* jupyter's `normalize.less` sets `[hidden] { display: none; }` but bootstrap.min.css set `[hidden] { display: none !important; }` so we also need the `!important` here to be able to override the default hidden behavior on the sphinx rendered scikit-learn.org. See: https://github.com/scikit-learn/scikit-learn/issues/21755 */display: inline-block !important;position: relative;}#sk-container-id-3 div.sk-text-repr-fallback {display: none;}</style><div id=\"sk-container-id-3\" class=\"sk-top-container\"><div class=\"sk-text-repr-fallback\"><pre>SVC()</pre><b>In a Jupyter environment, please rerun this cell to show the HTML representation or trust the notebook. <br />On GitHub, the HTML representation is unable to render, please try loading this page with nbviewer.org.</b></div><div class=\"sk-container\" hidden><div class=\"sk-item\"><div class=\"sk-estimator sk-toggleable\"><input class=\"sk-toggleable__control sk-hidden--visually\" id=\"sk-estimator-id-3\" type=\"checkbox\" checked><label for=\"sk-estimator-id-3\" class=\"sk-toggleable__label sk-toggleable__label-arrow\">SVC</label><div class=\"sk-toggleable__content\"><pre>SVC()</pre></div></div></div></div></div>"
      ],
      "text/plain": [
       "SVC()"
      ]
     },
     "execution_count": 24,
     "metadata": {},
     "output_type": "execute_result"
    }
   ],
   "source": [
    "from sklearn.svm import SVC\n",
    "svm_model = SVC()\n",
    "svm_model.fit(X_train, y_train)\n",
    "y_pred_svm = svm_model.predict(X_test)\n",
    "svm_model"
   ]
  },
  {
   "cell_type": "markdown",
   "id": "1812a4f3",
   "metadata": {},
   "source": [
    "# Evaluation Metrics "
   ]
  },
  {
   "cell_type": "code",
   "execution_count": 25,
   "id": "0ebefaa9",
   "metadata": {},
   "outputs": [
    {
     "name": "stdout",
     "output_type": "stream",
     "text": [
      "Random Forest Classifier Evaluation Metrics:\n",
      "Accuracy: 0.8999\n",
      "Precision (Macro): 0.4512\n",
      "Recall (Macro): 0.4985\n",
      "F1 Score (Macro): 0.4737\n",
      "\n",
      "Confusion Matrix:\n",
      "[[980   3]\n",
      " [106   0]]\n"
     ]
    }
   ],
   "source": [
    "from sklearn.metrics import accuracy_score, precision_score, recall_score, f1_score, classification_report, confusion_matrix\n",
    "\n",
    "# Accuracy\n",
    "accuracy = accuracy_score(y_test, y_pred_rf)\n",
    "\n",
    "# Precision, Recall, F1 (macro averages for multiclass fairness)\n",
    "precision = precision_score(y_test, y_pred_rf, average='macro', zero_division=0)\n",
    "recall = recall_score(y_test, y_pred_rf, average='macro', zero_division=0)\n",
    "f1 = f1_score(y_test, y_pred_rf, average='macro', zero_division=0)\n",
    "\n",
    "# Confusion Matrix\n",
    "conf_matrix = confusion_matrix(y_test, y_pred_rf)\n",
    "\n",
    "# Print metrics\n",
    "print(\"Random Forest Classifier Evaluation Metrics:\")\n",
    "print(f\"Accuracy: {accuracy:.4f}\")\n",
    "print(f\"Precision (Macro): {precision:.4f}\")\n",
    "print(f\"Recall (Macro): {recall:.4f}\")\n",
    "print(f\"F1 Score (Macro): {f1:.4f}\")\n",
    "print(\"\\nConfusion Matrix:\")\n",
    "print(conf_matrix)\n"
   ]
  },
  {
   "cell_type": "markdown",
   "id": "c5ef9869",
   "metadata": {},
   "source": [
    "# Cross Validation "
   ]
  },
  {
   "cell_type": "code",
   "execution_count": 26,
   "id": "f62f1a47",
   "metadata": {},
   "outputs": [
    {
     "data": {
      "text/plain": [
       "array([0.89793578, 0.8978186 , 0.8978186 , 0.8978186 , 0.8978186 ])"
      ]
     },
     "execution_count": 26,
     "metadata": {},
     "output_type": "execute_result"
    }
   ],
   "source": [
    "from sklearn.model_selection import cross_val_score\n",
    "cross_val_score(rf_model, X_train, y_train, cv=5, scoring='accuracy')"
   ]
  },
  {
   "cell_type": "markdown",
   "id": "3076eb68",
   "metadata": {},
   "source": [
    "# Hyperparameter Tuning with best parameters "
   ]
  },
  {
   "cell_type": "code",
   "execution_count": 27,
   "id": "ad7691c6",
   "metadata": {},
   "outputs": [],
   "source": [
    "from sklearn.preprocessing import StandardScaler\n",
    "from sklearn.compose import ColumnTransformer\n",
    "from sklearn.svm import SVC\n",
    "from sklearn.metrics import classification_report\n",
    "\n",
    "# Define numeric features (already one-hot encoded)\n",
    "numeric_features = [\n",
    "    'age', 'bmi', 'blood_pressure', 'glucose_levels', \n",
    "    'gender_female', 'gender_male', 'condition'\n",
    "]\n",
    "\n",
    "# Preprocessing: scale numeric features only\n",
    "preprocessor = ColumnTransformer(transformers=[\n",
    "    ('num', StandardScaler(), numeric_features)\n",
    "], remainder='passthrough')\n",
    "\n",
    "# Fit and transform X_train, transform X_test\n",
    "X_train_scaled = preprocessor.fit_transform(X_train)\n",
    "X_test_scaled = preprocessor.transform(X_test)\n",
    "\n",
    "# Train SVM with selected parameters\n",
    "final_model = SVC(\n",
    "    C=0.01,\n",
    "    kernel='rbf',\n",
    "    gamma='scale',\n",
    "    class_weight='balanced',\n",
    "    random_state=42\n",
    ")\n",
    "final_model.fit(X_train_scaled, y_train)\n",
    "\n",
    "# Predict on test set\n",
    "y_pred = final_model.predict(X_test_scaled)\n"
   ]
  },
  {
   "cell_type": "markdown",
   "id": "cad7dcee",
   "metadata": {},
   "source": [
    "# New Evaluation Metrics "
   ]
  },
  {
   "cell_type": "code",
   "execution_count": 28,
   "id": "7fb21956",
   "metadata": {},
   "outputs": [
    {
     "name": "stdout",
     "output_type": "stream",
     "text": [
      "Accuracy: 0.8953168044077136\n",
      "Precision (Macro): 0.4509713228492137\n",
      "Recall (Macro): 0.49593082400813837\n",
      "F1 Score (Macro): 0.47238372093023256\n",
      "Confusion Matrix:\n",
      " [[975   8]\n",
      " [106   0]]\n"
     ]
    }
   ],
   "source": [
    "# --- SVM Evaluation ---\n",
    "y_pred_svm = final_model.predict(X_test_scaled)\n",
    "\n",
    "print(\"Accuracy:\", accuracy_score(y_test, y_pred_svm))\n",
    "print(\"Precision (Macro):\", precision_score(y_test, y_pred_svm, average='macro'))\n",
    "print(\"Recall (Macro):\", recall_score(y_test, y_pred_svm, average='macro'))\n",
    "print(\"F1 Score (Macro):\", f1_score(y_test, y_pred_svm, average='macro'))\n",
    "print(\"Confusion Matrix:\\n\", confusion_matrix(y_test, y_pred_svm))"
   ]
  },
  {
   "cell_type": "markdown",
   "id": "81640f75",
   "metadata": {},
   "source": [
    "# Choosing the best Model"
   ]
  },
  {
   "cell_type": "markdown",
   "id": "76bb7510",
   "metadata": {},
   "source": [
    "* Highest F1 Score: SVM achieved the highest F1 Score of 0.4737, which is slightly better than Random Forest (0.4737) and significantly better than Logistic Regression (0.3736). The F1 Score reflects the balance between precision and recall, making it a strong indicator of model performance—especially in imbalanced datasets like this.\n",
    "* Consistent Precision and Recall: With precision of 0.4512 and recall of 0.4985, SVM demonstrates consistent and reliable predictions.\n",
    "* Generalization: SVM is known for its ability to generalize well, especially when the number of features is high relative to the number of observations and the classes are not perfectly separable."
   ]
  },
  {
   "cell_type": "markdown",
   "id": "38be4028",
   "metadata": {},
   "source": [
    "# Pipeline "
   ]
  },
  {
   "cell_type": "code",
   "execution_count": 29,
   "id": "eea4ef00",
   "metadata": {},
   "outputs": [
    {
     "data": {
      "text/html": [
       "<style>#sk-container-id-4 {color: black;}#sk-container-id-4 pre{padding: 0;}#sk-container-id-4 div.sk-toggleable {background-color: white;}#sk-container-id-4 label.sk-toggleable__label {cursor: pointer;display: block;width: 100%;margin-bottom: 0;padding: 0.3em;box-sizing: border-box;text-align: center;}#sk-container-id-4 label.sk-toggleable__label-arrow:before {content: \"▸\";float: left;margin-right: 0.25em;color: #696969;}#sk-container-id-4 label.sk-toggleable__label-arrow:hover:before {color: black;}#sk-container-id-4 div.sk-estimator:hover label.sk-toggleable__label-arrow:before {color: black;}#sk-container-id-4 div.sk-toggleable__content {max-height: 0;max-width: 0;overflow: hidden;text-align: left;background-color: #f0f8ff;}#sk-container-id-4 div.sk-toggleable__content pre {margin: 0.2em;color: black;border-radius: 0.25em;background-color: #f0f8ff;}#sk-container-id-4 input.sk-toggleable__control:checked~div.sk-toggleable__content {max-height: 200px;max-width: 100%;overflow: auto;}#sk-container-id-4 input.sk-toggleable__control:checked~label.sk-toggleable__label-arrow:before {content: \"▾\";}#sk-container-id-4 div.sk-estimator input.sk-toggleable__control:checked~label.sk-toggleable__label {background-color: #d4ebff;}#sk-container-id-4 div.sk-label input.sk-toggleable__control:checked~label.sk-toggleable__label {background-color: #d4ebff;}#sk-container-id-4 input.sk-hidden--visually {border: 0;clip: rect(1px 1px 1px 1px);clip: rect(1px, 1px, 1px, 1px);height: 1px;margin: -1px;overflow: hidden;padding: 0;position: absolute;width: 1px;}#sk-container-id-4 div.sk-estimator {font-family: monospace;background-color: #f0f8ff;border: 1px dotted black;border-radius: 0.25em;box-sizing: border-box;margin-bottom: 0.5em;}#sk-container-id-4 div.sk-estimator:hover {background-color: #d4ebff;}#sk-container-id-4 div.sk-parallel-item::after {content: \"\";width: 100%;border-bottom: 1px solid gray;flex-grow: 1;}#sk-container-id-4 div.sk-label:hover label.sk-toggleable__label {background-color: #d4ebff;}#sk-container-id-4 div.sk-serial::before {content: \"\";position: absolute;border-left: 1px solid gray;box-sizing: border-box;top: 0;bottom: 0;left: 50%;z-index: 0;}#sk-container-id-4 div.sk-serial {display: flex;flex-direction: column;align-items: center;background-color: white;padding-right: 0.2em;padding-left: 0.2em;position: relative;}#sk-container-id-4 div.sk-item {position: relative;z-index: 1;}#sk-container-id-4 div.sk-parallel {display: flex;align-items: stretch;justify-content: center;background-color: white;position: relative;}#sk-container-id-4 div.sk-item::before, #sk-container-id-4 div.sk-parallel-item::before {content: \"\";position: absolute;border-left: 1px solid gray;box-sizing: border-box;top: 0;bottom: 0;left: 50%;z-index: -1;}#sk-container-id-4 div.sk-parallel-item {display: flex;flex-direction: column;z-index: 1;position: relative;background-color: white;}#sk-container-id-4 div.sk-parallel-item:first-child::after {align-self: flex-end;width: 50%;}#sk-container-id-4 div.sk-parallel-item:last-child::after {align-self: flex-start;width: 50%;}#sk-container-id-4 div.sk-parallel-item:only-child::after {width: 0;}#sk-container-id-4 div.sk-dashed-wrapped {border: 1px dashed gray;margin: 0 0.4em 0.5em 0.4em;box-sizing: border-box;padding-bottom: 0.4em;background-color: white;}#sk-container-id-4 div.sk-label label {font-family: monospace;font-weight: bold;display: inline-block;line-height: 1.2em;}#sk-container-id-4 div.sk-label-container {text-align: center;}#sk-container-id-4 div.sk-container {/* jupyter's `normalize.less` sets `[hidden] { display: none; }` but bootstrap.min.css set `[hidden] { display: none !important; }` so we also need the `!important` here to be able to override the default hidden behavior on the sphinx rendered scikit-learn.org. See: https://github.com/scikit-learn/scikit-learn/issues/21755 */display: inline-block !important;position: relative;}#sk-container-id-4 div.sk-text-repr-fallback {display: none;}</style><div id=\"sk-container-id-4\" class=\"sk-top-container\"><div class=\"sk-text-repr-fallback\"><pre>Pipeline(steps=[(&#x27;preprocessor&#x27;,\n",
       "                 ColumnTransformer(remainder=&#x27;passthrough&#x27;,\n",
       "                                   transformers=[(&#x27;gender_onehot&#x27;,\n",
       "                                                  OneHotEncoder(handle_unknown=&#x27;ignore&#x27;,\n",
       "                                                                sparse_output=False),\n",
       "                                                  [&#x27;gender&#x27;]),\n",
       "                                                 (&#x27;condition_ordinal&#x27;,\n",
       "                                                  OrdinalEncoder(categories=[[&#x27;Diabetic&#x27;,\n",
       "                                                                              &#x27;Pneumonia&#x27;,\n",
       "                                                                              &#x27;Cancer&#x27;]]),\n",
       "                                                  [&#x27;condition&#x27;])])),\n",
       "                (&#x27;classifier&#x27;, SVC(probability=True, random_state=42))])</pre><b>In a Jupyter environment, please rerun this cell to show the HTML representation or trust the notebook. <br />On GitHub, the HTML representation is unable to render, please try loading this page with nbviewer.org.</b></div><div class=\"sk-container\" hidden><div class=\"sk-item sk-dashed-wrapped\"><div class=\"sk-label-container\"><div class=\"sk-label sk-toggleable\"><input class=\"sk-toggleable__control sk-hidden--visually\" id=\"sk-estimator-id-4\" type=\"checkbox\" ><label for=\"sk-estimator-id-4\" class=\"sk-toggleable__label sk-toggleable__label-arrow\">Pipeline</label><div class=\"sk-toggleable__content\"><pre>Pipeline(steps=[(&#x27;preprocessor&#x27;,\n",
       "                 ColumnTransformer(remainder=&#x27;passthrough&#x27;,\n",
       "                                   transformers=[(&#x27;gender_onehot&#x27;,\n",
       "                                                  OneHotEncoder(handle_unknown=&#x27;ignore&#x27;,\n",
       "                                                                sparse_output=False),\n",
       "                                                  [&#x27;gender&#x27;]),\n",
       "                                                 (&#x27;condition_ordinal&#x27;,\n",
       "                                                  OrdinalEncoder(categories=[[&#x27;Diabetic&#x27;,\n",
       "                                                                              &#x27;Pneumonia&#x27;,\n",
       "                                                                              &#x27;Cancer&#x27;]]),\n",
       "                                                  [&#x27;condition&#x27;])])),\n",
       "                (&#x27;classifier&#x27;, SVC(probability=True, random_state=42))])</pre></div></div></div><div class=\"sk-serial\"><div class=\"sk-item sk-dashed-wrapped\"><div class=\"sk-label-container\"><div class=\"sk-label sk-toggleable\"><input class=\"sk-toggleable__control sk-hidden--visually\" id=\"sk-estimator-id-5\" type=\"checkbox\" ><label for=\"sk-estimator-id-5\" class=\"sk-toggleable__label sk-toggleable__label-arrow\">preprocessor: ColumnTransformer</label><div class=\"sk-toggleable__content\"><pre>ColumnTransformer(remainder=&#x27;passthrough&#x27;,\n",
       "                  transformers=[(&#x27;gender_onehot&#x27;,\n",
       "                                 OneHotEncoder(handle_unknown=&#x27;ignore&#x27;,\n",
       "                                               sparse_output=False),\n",
       "                                 [&#x27;gender&#x27;]),\n",
       "                                (&#x27;condition_ordinal&#x27;,\n",
       "                                 OrdinalEncoder(categories=[[&#x27;Diabetic&#x27;,\n",
       "                                                             &#x27;Pneumonia&#x27;,\n",
       "                                                             &#x27;Cancer&#x27;]]),\n",
       "                                 [&#x27;condition&#x27;])])</pre></div></div></div><div class=\"sk-parallel\"><div class=\"sk-parallel-item\"><div class=\"sk-item\"><div class=\"sk-label-container\"><div class=\"sk-label sk-toggleable\"><input class=\"sk-toggleable__control sk-hidden--visually\" id=\"sk-estimator-id-6\" type=\"checkbox\" ><label for=\"sk-estimator-id-6\" class=\"sk-toggleable__label sk-toggleable__label-arrow\">gender_onehot</label><div class=\"sk-toggleable__content\"><pre>[&#x27;gender&#x27;]</pre></div></div></div><div class=\"sk-serial\"><div class=\"sk-item\"><div class=\"sk-estimator sk-toggleable\"><input class=\"sk-toggleable__control sk-hidden--visually\" id=\"sk-estimator-id-7\" type=\"checkbox\" ><label for=\"sk-estimator-id-7\" class=\"sk-toggleable__label sk-toggleable__label-arrow\">OneHotEncoder</label><div class=\"sk-toggleable__content\"><pre>OneHotEncoder(handle_unknown=&#x27;ignore&#x27;, sparse_output=False)</pre></div></div></div></div></div></div><div class=\"sk-parallel-item\"><div class=\"sk-item\"><div class=\"sk-label-container\"><div class=\"sk-label sk-toggleable\"><input class=\"sk-toggleable__control sk-hidden--visually\" id=\"sk-estimator-id-8\" type=\"checkbox\" ><label for=\"sk-estimator-id-8\" class=\"sk-toggleable__label sk-toggleable__label-arrow\">condition_ordinal</label><div class=\"sk-toggleable__content\"><pre>[&#x27;condition&#x27;]</pre></div></div></div><div class=\"sk-serial\"><div class=\"sk-item\"><div class=\"sk-estimator sk-toggleable\"><input class=\"sk-toggleable__control sk-hidden--visually\" id=\"sk-estimator-id-9\" type=\"checkbox\" ><label for=\"sk-estimator-id-9\" class=\"sk-toggleable__label sk-toggleable__label-arrow\">OrdinalEncoder</label><div class=\"sk-toggleable__content\"><pre>OrdinalEncoder(categories=[[&#x27;Diabetic&#x27;, &#x27;Pneumonia&#x27;, &#x27;Cancer&#x27;]])</pre></div></div></div></div></div></div><div class=\"sk-parallel-item\"><div class=\"sk-item\"><div class=\"sk-label-container\"><div class=\"sk-label sk-toggleable\"><input class=\"sk-toggleable__control sk-hidden--visually\" id=\"sk-estimator-id-10\" type=\"checkbox\" ><label for=\"sk-estimator-id-10\" class=\"sk-toggleable__label sk-toggleable__label-arrow\">remainder</label><div class=\"sk-toggleable__content\"><pre>[&#x27;age&#x27;, &#x27;bmi&#x27;, &#x27;blood_pressure&#x27;, &#x27;glucose_levels&#x27;]</pre></div></div></div><div class=\"sk-serial\"><div class=\"sk-item\"><div class=\"sk-estimator sk-toggleable\"><input class=\"sk-toggleable__control sk-hidden--visually\" id=\"sk-estimator-id-11\" type=\"checkbox\" ><label for=\"sk-estimator-id-11\" class=\"sk-toggleable__label sk-toggleable__label-arrow\">passthrough</label><div class=\"sk-toggleable__content\"><pre>passthrough</pre></div></div></div></div></div></div></div></div><div class=\"sk-item\"><div class=\"sk-estimator sk-toggleable\"><input class=\"sk-toggleable__control sk-hidden--visually\" id=\"sk-estimator-id-12\" type=\"checkbox\" ><label for=\"sk-estimator-id-12\" class=\"sk-toggleable__label sk-toggleable__label-arrow\">SVC</label><div class=\"sk-toggleable__content\"><pre>SVC(probability=True, random_state=42)</pre></div></div></div></div></div></div></div>"
      ],
      "text/plain": [
       "Pipeline(steps=[('preprocessor',\n",
       "                 ColumnTransformer(remainder='passthrough',\n",
       "                                   transformers=[('gender_onehot',\n",
       "                                                  OneHotEncoder(handle_unknown='ignore',\n",
       "                                                                sparse_output=False),\n",
       "                                                  ['gender']),\n",
       "                                                 ('condition_ordinal',\n",
       "                                                  OrdinalEncoder(categories=[['Diabetic',\n",
       "                                                                              'Pneumonia',\n",
       "                                                                              'Cancer']]),\n",
       "                                                  ['condition'])])),\n",
       "                ('classifier', SVC(probability=True, random_state=42))])"
      ]
     },
     "execution_count": 29,
     "metadata": {},
     "output_type": "execute_result"
    }
   ],
   "source": [
    "from sklearn.svm import SVC\n",
    "from sklearn.pipeline import Pipeline\n",
    "\n",
    "# Define the pipeline with SVM\n",
    "pipeline = Pipeline(steps=[\n",
    "    ('preprocessor', ct),\n",
    "    ('classifier', SVC(kernel='rbf', probability=True, random_state=42))\n",
    "])\n",
    "pipeline"
   ]
  },
  {
   "cell_type": "markdown",
   "id": "bfa253fc",
   "metadata": {},
   "source": [
    "# 4. Performance Impact on Models"
   ]
  },
  {
   "cell_type": "code",
   "execution_count": 30,
   "id": "f4cfc688",
   "metadata": {},
   "outputs": [
    {
     "name": "stdout",
     "output_type": "stream",
     "text": [
      "                 Model  Precision  Recall  F1 Score\n",
      "0  Logistic Regression     0.5135  0.5368    0.3736\n",
      "1        Random Forest     0.4512  0.4985    0.4737\n",
      "2                  SVM     0.4512  0.4985    0.4737\n"
     ]
    }
   ],
   "source": [
    "import pandas as pd\n",
    "\n",
    "# Define evaluation metrics\n",
    "metrics_data = {\n",
    "    'Model': ['Logistic Regression', 'Random Forest', 'SVM'],\n",
    "    'Precision': [0.5135, 0.4512, 0.4512],\n",
    "    'Recall': [0.5368, 0.4985, 0.4985],\n",
    "    'F1 Score': [0.3736, 0.4737, 0.4737]\n",
    "}\n",
    "\n",
    "# Create a DataFrame\n",
    "metrics_df = pd.DataFrame(metrics_data)\n",
    "print(metrics_df)\n"
   ]
  },
  {
   "cell_type": "markdown",
   "id": "8d8bde23",
   "metadata": {},
   "source": [
    "# 5. Visuals & Presentation: Comparison Bar Chart"
   ]
  },
  {
   "cell_type": "code",
   "execution_count": 31,
   "id": "83bb6c44",
   "metadata": {},
   "outputs": [
    {
     "data": {
      "image/png": "[encoded data removed]",
      "text/plain": [
       "<Figure size 1000x600 with 1 Axes>"
      ]
     },
     "metadata": {},
     "output_type": "display_data"
    }
   ],
   "source": [
    "# Bar plot for model comparison\n",
    "x = range(len(metrics_df['Model']))\n",
    "width = 0.25\n",
    "\n",
    "plt.figure(figsize=(10, 6))\n",
    "plt.bar([p - width for p in x], metrics_df['Precision'], width=width, label='Precision')\n",
    "plt.bar(x, metrics_df['Recall'], width=width, label='Recall')\n",
    "plt.bar([p + width for p in x], metrics_df['F1 Score'], width=width, label='F1 Score')\n",
    "\n",
    "# Customizing plot\n",
    "plt.xticks(x, metrics_df['Model'])\n",
    "plt.ylabel('Score')\n",
    "plt.title('Model Performance Comparison')\n",
    "plt.ylim(0.3, 0.6)\n",
    "plt.legend()\n",
    "plt.tight_layout()\n",
    "plt.show()\n"
   ]
  },
  {
   "cell_type": "markdown",
   "id": "31a2e662",
   "metadata": {},
   "source": [
    "# 6. Interpretation and Conclusion "
   ]
  },
  {
   "cell_type": "markdown",
   "id": "1ddde96a",
   "metadata": {},
   "source": [
    "After evaluating all three models—Logistic Regression, Random Forest, and Support Vector Machine (SVM)—based on precision, recall, and F1 score, SVM emerges as the most suitable model for this task. It delivers the highest F1 Score (0.4737), which indicates a strong balance between precision and recall. While Logistic Regression provided slightly higher precision and recall values, its F1 Score was significantly lower, suggesting that it does not perform as well when considering both false positives and false negatives. Random Forest also performed well, nearly matching the performance of SVM, but given the tie in F1 Score and SVM's known strengths in handling complex, non-linear relationships, SVM is selected as the best model for predicting smoking status in this context."
   ]
  },
  {
   "cell_type": "code",
   "execution_count": null,
   "id": "7ff7e785",
   "metadata": {},
   "outputs": [],
   "source": []
  }
 ],
 "metadata": {
  "kernelspec": {
   "display_name": "Python 3 (ipykernel)",
   "language": "python",
   "name": "python3"
  },
  "language_info": {
   "codemirror_mode": {
    "name": "ipython",
    "version": 3
   },
   "file_extension": ".py",
   "mimetype": "text/x-python",
   "name": "python",
   "nbconvert_exporter": "python",
   "pygments_lexer": "ipython3",
   "version": "3.11.3"
  }
 },
 "nbformat": 4,
 "nbformat_minor": 5
}
