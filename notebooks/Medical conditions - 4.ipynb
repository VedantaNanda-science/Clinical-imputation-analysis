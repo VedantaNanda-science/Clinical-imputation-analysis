{
 "cells": [
  {
   "cell_type": "markdown",
   "id": "8ef3a011",
   "metadata": {},
   "source": [
    "# NOTEBOOK - 4"
   ]
  },
  {
   "cell_type": "markdown",
   "id": "d5a9fb05",
   "metadata": {},
   "source": [
    "# Importing Libraries "
   ]
  },
  {
   "cell_type": "code",
   "execution_count": 1,
   "id": "cb003577",
   "metadata": {},
   "outputs": [],
   "source": [
    "import numpy as np\n",
    "import pandas as pd\n",
    "from sklearn.preprocessing import LabelEncoder, OneHotEncoder, OrdinalEncoder\n",
    "from sklearn.model_selection import train_test_split\n",
    "from sklearn.compose import ColumnTransformer\n",
    "from sklearn.impute import SimpleImputer\n",
    "from sklearn.preprocessing import OneHotEncoder\n",
    "from sklearn.preprocessing import OrdinalEncoder\n",
    "from sklearn.preprocessing import StandardScaler\n",
    "from sklearn.preprocessing import MaxAbsScaler\n",
    "from sklearn.metrics import confusion_matrix, f1_score\n",
    "import matplotlib.pyplot as plt\n",
    "import seaborn as sns\n",
    "from sklearn.metrics import accuracy_score, precision_score, recall_score, f1_score\n",
    "from sklearn.metrics import classification_report\n",
    "from sklearn.metrics import confusion_matrix, ConfusionMatrixDisplay\n",
    "from sklearn.metrics import roc_curve, roc_auc_score, RocCurveDisplay\n",
    "from sklearn.linear_model import LogisticRegression\n",
    "from sklearn.pipeline import Pipeline\n",
    "from sklearn.model_selection import cross_val_score\n",
    "from sklearn.model_selection import GridSearchCV\n",
    "from sklearn.metrics import classification_report, confusion_matrix, accuracy_score, f1_score"
   ]
  },
  {
   "cell_type": "markdown",
   "id": "b3cd9088",
   "metadata": {},
   "source": [
    "# Importing the dataset "
   ]
  },
  {
   "cell_type": "code",
   "execution_count": 2,
   "id": "9aa0a38b",
   "metadata": {},
   "outputs": [
    {
     "data": {
      "text/html": [
       "<div>\n",
       "<style scoped>\n",
       "    .dataframe tbody tr th:only-of-type {\n",
       "        vertical-align: middle;\n",
       "    }\n",
       "\n",
       "    .dataframe tbody tr th {\n",
       "        vertical-align: top;\n",
       "    }\n",
       "\n",
       "    .dataframe thead th {\n",
       "        text-align: right;\n",
       "    }\n",
       "</style>\n",
       "<table border=\"1\" class=\"dataframe\">\n",
       "  <thead>\n",
       "    <tr style=\"text-align: right;\">\n",
       "      <th></th>\n",
       "      <th>id</th>\n",
       "      <th>full_name</th>\n",
       "      <th>age</th>\n",
       "      <th>gender</th>\n",
       "      <th>smoking_status</th>\n",
       "      <th>bmi</th>\n",
       "      <th>blood_pressure</th>\n",
       "      <th>glucose_levels</th>\n",
       "      <th>condition</th>\n",
       "    </tr>\n",
       "  </thead>\n",
       "  <tbody>\n",
       "    <tr>\n",
       "      <th>0</th>\n",
       "      <td>1</td>\n",
       "      <td>User0001</td>\n",
       "      <td>NaN</td>\n",
       "      <td>male</td>\n",
       "      <td>Non-Smoker</td>\n",
       "      <td>NaN</td>\n",
       "      <td>NaN</td>\n",
       "      <td>NaN</td>\n",
       "      <td>Pneumonia</td>\n",
       "    </tr>\n",
       "    <tr>\n",
       "      <th>1</th>\n",
       "      <td>2</td>\n",
       "      <td>User0002</td>\n",
       "      <td>30.0</td>\n",
       "      <td>male</td>\n",
       "      <td>Non-Smoker</td>\n",
       "      <td>NaN</td>\n",
       "      <td>105.315064</td>\n",
       "      <td>NaN</td>\n",
       "      <td>Diabetic</td>\n",
       "    </tr>\n",
       "    <tr>\n",
       "      <th>2</th>\n",
       "      <td>3</td>\n",
       "      <td>User0003</td>\n",
       "      <td>18.0</td>\n",
       "      <td>male</td>\n",
       "      <td>Non-Smoker</td>\n",
       "      <td>35.612486</td>\n",
       "      <td>NaN</td>\n",
       "      <td>NaN</td>\n",
       "      <td>Pneumonia</td>\n",
       "    </tr>\n",
       "    <tr>\n",
       "      <th>3</th>\n",
       "      <td>4</td>\n",
       "      <td>User0004</td>\n",
       "      <td>NaN</td>\n",
       "      <td>male</td>\n",
       "      <td>Non-Smoker</td>\n",
       "      <td>NaN</td>\n",
       "      <td>99.119829</td>\n",
       "      <td>NaN</td>\n",
       "      <td>Pneumonia</td>\n",
       "    </tr>\n",
       "    <tr>\n",
       "      <th>4</th>\n",
       "      <td>5</td>\n",
       "      <td>User0005</td>\n",
       "      <td>76.0</td>\n",
       "      <td>male</td>\n",
       "      <td>Non-Smoker</td>\n",
       "      <td>NaN</td>\n",
       "      <td>NaN</td>\n",
       "      <td>NaN</td>\n",
       "      <td>Diabetic</td>\n",
       "    </tr>\n",
       "    <tr>\n",
       "      <th>...</th>\n",
       "      <td>...</td>\n",
       "      <td>...</td>\n",
       "      <td>...</td>\n",
       "      <td>...</td>\n",
       "      <td>...</td>\n",
       "      <td>...</td>\n",
       "      <td>...</td>\n",
       "      <td>...</td>\n",
       "      <td>...</td>\n",
       "    </tr>\n",
       "    <tr>\n",
       "      <th>9995</th>\n",
       "      <td>9996</td>\n",
       "      <td>User9996</td>\n",
       "      <td>NaN</td>\n",
       "      <td>male</td>\n",
       "      <td>Non-Smoker</td>\n",
       "      <td>25.029002</td>\n",
       "      <td>152.540355</td>\n",
       "      <td>137.551451</td>\n",
       "      <td>Pneumonia</td>\n",
       "    </tr>\n",
       "    <tr>\n",
       "      <th>9996</th>\n",
       "      <td>9997</td>\n",
       "      <td>User9997</td>\n",
       "      <td>NaN</td>\n",
       "      <td>male</td>\n",
       "      <td>Non-Smoker</td>\n",
       "      <td>27.017487</td>\n",
       "      <td>NaN</td>\n",
       "      <td>NaN</td>\n",
       "      <td>Diabetic</td>\n",
       "    </tr>\n",
       "    <tr>\n",
       "      <th>9997</th>\n",
       "      <td>9998</td>\n",
       "      <td>User9998</td>\n",
       "      <td>23.0</td>\n",
       "      <td>male</td>\n",
       "      <td>Smoker</td>\n",
       "      <td>NaN</td>\n",
       "      <td>148.833321</td>\n",
       "      <td>173.931480</td>\n",
       "      <td>Pneumonia</td>\n",
       "    </tr>\n",
       "    <tr>\n",
       "      <th>9998</th>\n",
       "      <td>9999</td>\n",
       "      <td>User9999</td>\n",
       "      <td>NaN</td>\n",
       "      <td>female</td>\n",
       "      <td>Non-Smoker</td>\n",
       "      <td>NaN</td>\n",
       "      <td>NaN</td>\n",
       "      <td>NaN</td>\n",
       "      <td>Pneumonia</td>\n",
       "    </tr>\n",
       "    <tr>\n",
       "      <th>9999</th>\n",
       "      <td>10000</td>\n",
       "      <td>User10000</td>\n",
       "      <td>27.0</td>\n",
       "      <td>male</td>\n",
       "      <td>Non-Smoker</td>\n",
       "      <td>25.454891</td>\n",
       "      <td>NaN</td>\n",
       "      <td>196.083267</td>\n",
       "      <td>Diabetic</td>\n",
       "    </tr>\n",
       "  </tbody>\n",
       "</table>\n",
       "<p>10000 rows × 9 columns</p>\n",
       "</div>"
      ],
      "text/plain": [
       "         id  full_name   age  gender smoking_status        bmi  \\\n",
       "0         1   User0001   NaN    male     Non-Smoker        NaN   \n",
       "1         2   User0002  30.0    male     Non-Smoker        NaN   \n",
       "2         3   User0003  18.0    male     Non-Smoker  35.612486   \n",
       "3         4   User0004   NaN    male     Non-Smoker        NaN   \n",
       "4         5   User0005  76.0    male     Non-Smoker        NaN   \n",
       "...     ...        ...   ...     ...            ...        ...   \n",
       "9995   9996   User9996   NaN    male     Non-Smoker  25.029002   \n",
       "9996   9997   User9997   NaN    male     Non-Smoker  27.017487   \n",
       "9997   9998   User9998  23.0    male         Smoker        NaN   \n",
       "9998   9999   User9999   NaN  female     Non-Smoker        NaN   \n",
       "9999  10000  User10000  27.0    male     Non-Smoker  25.454891   \n",
       "\n",
       "      blood_pressure  glucose_levels  condition  \n",
       "0                NaN             NaN  Pneumonia  \n",
       "1         105.315064             NaN   Diabetic  \n",
       "2                NaN             NaN  Pneumonia  \n",
       "3          99.119829             NaN  Pneumonia  \n",
       "4                NaN             NaN   Diabetic  \n",
       "...              ...             ...        ...  \n",
       "9995      152.540355      137.551451  Pneumonia  \n",
       "9996             NaN             NaN   Diabetic  \n",
       "9997      148.833321      173.931480  Pneumonia  \n",
       "9998             NaN             NaN  Pneumonia  \n",
       "9999             NaN      196.083267   Diabetic  \n",
       "\n",
       "[10000 rows x 9 columns]"
      ]
     },
     "execution_count": 2,
     "metadata": {},
     "output_type": "execute_result"
    }
   ],
   "source": [
    "import pandas as pd\n",
    "df = pd.read_csv(\"medical_conditions_dataset.csv\")\n",
    "df"
   ]
  },
  {
   "cell_type": "markdown",
   "id": "3786ae4c",
   "metadata": {},
   "source": [
    "# 1. Feature Selection & Preprocessing "
   ]
  },
  {
   "cell_type": "markdown",
   "id": "ee1e9ecd",
   "metadata": {},
   "source": [
    "1. Problem-Specific Feature Selection\n",
    "The features chosen should directly relate to smoking behavior. For example:\n",
    "    \n",
    "* Age: Smoking habits often vary by age, making it an important feature.\n",
    "* Gender: Smoking rates differ between genders, so gender is crucial.\n",
    "* Income: Smoking rates are sometimes higher among lower-income groups.\n",
    "* Education: Higher education levels tend to correlate with lower smoking rates.\n",
    "* Occupation: Certain occupations may have higher smoking rates due to stress or social factors.\n",
    "These features are selected based on their clear connection to smoking behavior."
   ]
  },
  {
   "cell_type": "markdown",
   "id": "89926add",
   "metadata": {},
   "source": [
    "2. Domain Knowledge\n",
    "Understanding the problem helps identify key features, even if not immediately apparent statistically. For instance:\n",
    "\n",
    "* Health variables: Chronic diseases or mental health issues might affect smoking behaviors.\n",
    "* Social influences: Family or friends who smoke can influence one's smoking habits.\n",
    "\n",
    "These insights help ensure the model reflects real-world factors affecting smoking."
   ]
  },
  {
   "cell_type": "markdown",
   "id": "246a6ab6",
   "metadata": {},
   "source": [
    "# Data Cleaning and EDA"
   ]
  },
  {
   "cell_type": "code",
   "execution_count": 3,
   "id": "4043c294",
   "metadata": {},
   "outputs": [
    {
     "data": {
      "text/html": [
       "<div>\n",
       "<style scoped>\n",
       "    .dataframe tbody tr th:only-of-type {\n",
       "        vertical-align: middle;\n",
       "    }\n",
       "\n",
       "    .dataframe tbody tr th {\n",
       "        vertical-align: top;\n",
       "    }\n",
       "\n",
       "    .dataframe thead th {\n",
       "        text-align: right;\n",
       "    }\n",
       "</style>\n",
       "<table border=\"1\" class=\"dataframe\">\n",
       "  <thead>\n",
       "    <tr style=\"text-align: right;\">\n",
       "      <th></th>\n",
       "      <th>id</th>\n",
       "      <th>age</th>\n",
       "      <th>bmi</th>\n",
       "      <th>blood_pressure</th>\n",
       "      <th>glucose_levels</th>\n",
       "    </tr>\n",
       "  </thead>\n",
       "  <tbody>\n",
       "    <tr>\n",
       "      <th>count</th>\n",
       "      <td>10000.00000</td>\n",
       "      <td>5445.000000</td>\n",
       "      <td>4652.000000</td>\n",
       "      <td>3766.000000</td>\n",
       "      <td>4756.000000</td>\n",
       "    </tr>\n",
       "    <tr>\n",
       "      <th>mean</th>\n",
       "      <td>5000.50000</td>\n",
       "      <td>53.541598</td>\n",
       "      <td>27.423420</td>\n",
       "      <td>135.209429</td>\n",
       "      <td>135.219608</td>\n",
       "    </tr>\n",
       "    <tr>\n",
       "      <th>std</th>\n",
       "      <td>2886.89568</td>\n",
       "      <td>20.925113</td>\n",
       "      <td>7.231257</td>\n",
       "      <td>26.041531</td>\n",
       "      <td>37.607638</td>\n",
       "    </tr>\n",
       "    <tr>\n",
       "      <th>min</th>\n",
       "      <td>1.00000</td>\n",
       "      <td>18.000000</td>\n",
       "      <td>15.012119</td>\n",
       "      <td>90.009620</td>\n",
       "      <td>70.015961</td>\n",
       "    </tr>\n",
       "    <tr>\n",
       "      <th>25%</th>\n",
       "      <td>2500.75000</td>\n",
       "      <td>35.000000</td>\n",
       "      <td>21.077894</td>\n",
       "      <td>113.107754</td>\n",
       "      <td>102.273703</td>\n",
       "    </tr>\n",
       "    <tr>\n",
       "      <th>50%</th>\n",
       "      <td>5000.50000</td>\n",
       "      <td>54.000000</td>\n",
       "      <td>27.326204</td>\n",
       "      <td>134.821040</td>\n",
       "      <td>135.436764</td>\n",
       "    </tr>\n",
       "    <tr>\n",
       "      <th>75%</th>\n",
       "      <td>7500.25000</td>\n",
       "      <td>72.000000</td>\n",
       "      <td>33.689330</td>\n",
       "      <td>157.949509</td>\n",
       "      <td>168.349011</td>\n",
       "    </tr>\n",
       "    <tr>\n",
       "      <th>max</th>\n",
       "      <td>10000.00000</td>\n",
       "      <td>89.000000</td>\n",
       "      <td>39.998687</td>\n",
       "      <td>179.999359</td>\n",
       "      <td>199.890429</td>\n",
       "    </tr>\n",
       "  </tbody>\n",
       "</table>\n",
       "</div>"
      ],
      "text/plain": [
       "                id          age          bmi  blood_pressure  glucose_levels\n",
       "count  10000.00000  5445.000000  4652.000000     3766.000000     4756.000000\n",
       "mean    5000.50000    53.541598    27.423420      135.209429      135.219608\n",
       "std     2886.89568    20.925113     7.231257       26.041531       37.607638\n",
       "min        1.00000    18.000000    15.012119       90.009620       70.015961\n",
       "25%     2500.75000    35.000000    21.077894      113.107754      102.273703\n",
       "50%     5000.50000    54.000000    27.326204      134.821040      135.436764\n",
       "75%     7500.25000    72.000000    33.689330      157.949509      168.349011\n",
       "max    10000.00000    89.000000    39.998687      179.999359      199.890429"
      ]
     },
     "execution_count": 3,
     "metadata": {},
     "output_type": "execute_result"
    }
   ],
   "source": [
    "# Summary Statistics \n",
    "df.describe()"
   ]
  },
  {
   "cell_type": "code",
   "execution_count": 4,
   "id": "bc740a34",
   "metadata": {},
   "outputs": [
    {
     "data": {
      "text/plain": [
       "id                 0.00\n",
       "full_name          0.00\n",
       "age               45.55\n",
       "gender             0.00\n",
       "smoking_status     0.00\n",
       "bmi               53.48\n",
       "blood_pressure    62.34\n",
       "glucose_levels    52.44\n",
       "condition          0.00\n",
       "dtype: float64"
      ]
     },
     "execution_count": 4,
     "metadata": {},
     "output_type": "execute_result"
    }
   ],
   "source": [
    "# Checking %age of missing values in the dataset \n",
    "df.isnull().mean()*100"
   ]
  },
  {
   "cell_type": "code",
   "execution_count": 5,
   "id": "0435af4e",
   "metadata": {},
   "outputs": [
    {
     "name": "stdout",
     "output_type": "stream",
     "text": [
      "Missing Data Summary:\n",
      "                Missing Count  Missing Percentage\n",
      "blood_pressure           6234               62.34\n",
      "bmi                      5348               53.48\n",
      "glucose_levels           5244               52.44\n",
      "age                      4555               45.55\n"
     ]
    },
    {
     "data": {
      "image/png": "[encoded data removed]",
      "text/plain": [
       "<Figure size 1200x600 with 1 Axes>"
      ]
     },
     "metadata": {},
     "output_type": "display_data"
    }
   ],
   "source": [
    "# missing data analysis \n",
    "import pandas as pd\n",
    "import seaborn as sns\n",
    "import matplotlib.pyplot as plt\n",
    "\n",
    "# 1. Checking missing values per column\n",
    "missing_counts = df.isnull().sum()\n",
    "missing_percent = (missing_counts / len(df)) * 100\n",
    "missing_df = pd.DataFrame({\n",
    "    'Missing Count': missing_counts,\n",
    "    'Missing Percentage': missing_percent\n",
    "})\n",
    "missing_df = missing_df[missing_df['Missing Count'] > 0].sort_values(by='Missing Percentage', ascending=False)\n",
    "print(\"Missing Data Summary:\")\n",
    "print(missing_df)\n",
    "\n",
    "# 2. Visualize percentage of missing data as a bar plot\n",
    "plt.figure(figsize=(12, 6))\n",
    "sns.barplot(x=missing_df.index, y='Missing Percentage', data=missing_df)\n",
    "plt.xticks(rotation=45, ha='right')\n",
    "plt.ylabel('Percentage of Missing Data')\n",
    "plt.title('Missing Data by Feature')\n",
    "plt.show()\n"
   ]
  },
  {
   "cell_type": "code",
   "execution_count": 6,
   "id": "ae04e3f2",
   "metadata": {},
   "outputs": [],
   "source": [
    "# Data Cleaning\n",
    "\n",
    "# Dropping unnecessary columns\n",
    "df.drop(columns=['id', 'full_name'], inplace=True)\n",
    "# Convert 'age' into integer, marking small values or nulls as NA\n",
    "df['age'] = df['age'].apply(lambda x: int(x) if pd.notna(x) and x > 1 else pd.NA)\n",
    "# Drop rows where age is missing\n",
    "df = df.dropna(subset=['age'])\n",
    "# Reset index (optional but recommended)\n",
    "df.reset_index(drop=True, inplace=True)"
   ]
  },
  {
   "cell_type": "markdown",
   "id": "a2d695e8",
   "metadata": {},
   "source": [
    "# Imputation Technique 4 - Random Sample Imputation "
   ]
  },
  {
   "cell_type": "markdown",
   "id": "f5880f78",
   "metadata": {},
   "source": [
    "**Random Sample Imputation** is a statistical technique used to handle missing data by replacing missing values in a feature with randomly selected values from the existing (non-missing) data in the same feature column. The key idea is to preserve the original distribution and variability of the data, unlike methods such as mean or median imputation that can reduce variance and introduce bias. This technique is particularly useful when the data is missing at random (MAR) and when maintaining the natural variability of the dataset is important. By sampling from observed values, it avoids the distortion of relationships between variables and keeps the feature’s statistical properties more intact, which can help in maintaining model performance.\n"
   ]
  },
  {
   "cell_type": "code",
   "execution_count": 7,
   "id": "2c50e8e1",
   "metadata": {},
   "outputs": [],
   "source": [
    "def random_sample_imputation(df, column):\n",
    "    missing_mask = df[column].isnull()\n",
    "    valid_values = df[column].dropna()\n",
    "    \n",
    "    if missing_mask.sum() > len(valid_values):\n",
    "        # If missing count > available values, enable replacement\n",
    "        random_sample = valid_values.sample(missing_mask.sum(), replace=True, random_state=42)\n",
    "    else:\n",
    "        # Normal sampling without replacement\n",
    "        random_sample = valid_values.sample(missing_mask.sum(), random_state=42)\n",
    "    \n",
    "    df.loc[missing_mask, column] = random_sample.values\n",
    "\n",
    "# Apply imputation to all columns with missing values\n",
    "for col in df.columns:\n",
    "    if df[col].isnull().sum() > 0:\n",
    "        random_sample_imputation(df, col)\n"
   ]
  },
  {
   "cell_type": "code",
   "execution_count": 8,
   "id": "2ed7b180",
   "metadata": {},
   "outputs": [
    {
     "data": {
      "text/plain": [
       "age               0.0\n",
       "gender            0.0\n",
       "smoking_status    0.0\n",
       "bmi               0.0\n",
       "blood_pressure    0.0\n",
       "glucose_levels    0.0\n",
       "condition         0.0\n",
       "dtype: float64"
      ]
     },
     "execution_count": 8,
     "metadata": {},
     "output_type": "execute_result"
    }
   ],
   "source": [
    "df.isnull().mean()*100"
   ]
  },
  {
   "cell_type": "markdown",
   "id": "ce7b983b",
   "metadata": {},
   "source": [
    "# Handling Outliers "
   ]
  },
  {
   "cell_type": "code",
   "execution_count": 9,
   "id": "9565bbd8",
   "metadata": {},
   "outputs": [
    {
     "name": "stdout",
     "output_type": "stream",
     "text": [
      "Rows before: 5445\n",
      "Rows after outlier removal: 5445\n"
     ]
    },
    {
     "name": "stderr",
     "output_type": "stream",
     "text": [
      "/var/folders/3z/04dfh84n663cm0t0v83rlcv00000gn/T/ipykernel_4364/3347998392.py:5: FutureWarning: The default value of numeric_only in DataFrame.quantile is deprecated. In a future version, it will default to False. Select only valid columns or specify the value of numeric_only to silence this warning.\n",
      "  Q1 = df[['age', 'bmi', 'blood_pressure']].quantile(0.25)\n",
      "/var/folders/3z/04dfh84n663cm0t0v83rlcv00000gn/T/ipykernel_4364/3347998392.py:6: FutureWarning: The default value of numeric_only in DataFrame.quantile is deprecated. In a future version, it will default to False. Select only valid columns or specify the value of numeric_only to silence this warning.\n",
      "  Q3 = df[['age', 'bmi', 'blood_pressure']].quantile(0.75)\n",
      "/var/folders/3z/04dfh84n663cm0t0v83rlcv00000gn/T/ipykernel_4364/3347998392.py:14: FutureWarning: Automatic reindexing on DataFrame vs Series comparisons is deprecated and will raise ValueError in a future version. Do `left, right = left.align(right, axis=1, copy=False)` before e.g. `left == right`\n",
      "  df_no_outliers_iqr = df[~((df[numerical_cols] < lower_bound) | (df[numerical_cols] > upper_bound)).any(axis=1)]\n",
      "/var/folders/3z/04dfh84n663cm0t0v83rlcv00000gn/T/ipykernel_4364/3347998392.py:14: FutureWarning: Automatic reindexing on DataFrame vs Series comparisons is deprecated and will raise ValueError in a future version. Do `left, right = left.align(right, axis=1, copy=False)` before e.g. `left == right`\n",
      "  df_no_outliers_iqr = df[~((df[numerical_cols] < lower_bound) | (df[numerical_cols] > upper_bound)).any(axis=1)]\n"
     ]
    }
   ],
   "source": [
    "# Manually specify numerical columns to check for outliers\n",
    "numerical_cols = ['age', 'bmi', 'blood_pressure', \"glucose_levels\"]\n",
    "\n",
    "# Compute Q1, Q3, and IQR\n",
    "Q1 = df[['age', 'bmi', 'blood_pressure']].quantile(0.25)\n",
    "Q3 = df[['age', 'bmi', 'blood_pressure']].quantile(0.75)\n",
    "IQR = Q3 - Q1\n",
    "\n",
    "# Define outlier bounds\n",
    "lower_bound = Q1 - 1.5 * IQR\n",
    "upper_bound = Q3 + 1.5 * IQR\n",
    "\n",
    "# Filter rows: keep only those that are not outliers in any specified column\n",
    "df_no_outliers_iqr = df[~((df[numerical_cols] < lower_bound) | (df[numerical_cols] > upper_bound)).any(axis=1)]\n",
    "\n",
    "# Display how many rows were removed\n",
    "print(f\"Rows before: {df.shape[0]}\")\n",
    "print(f\"Rows after outlier removal: {df_no_outliers_iqr.shape[0]}\")\n"
   ]
  },
  {
   "cell_type": "markdown",
   "id": "b984985d",
   "metadata": {},
   "source": [
    "Conclusion: No outliers were detected in the dataset.\n",
    "\n",
    "Despite performing outlier detection, the number of rows in the dataset remained unchanged at 5445 both before and after the process. This suggests that the data does not contain values that significantly deviate from the overall pattern or distribution, and therefore, no outliers were identified during the analysis. This indicates that the dataset is relatively clean and does not require further adjustment for outlier removal at this stage.\n"
   ]
  },
  {
   "cell_type": "code",
   "execution_count": 10,
   "id": "f23d7534",
   "metadata": {},
   "outputs": [
    {
     "data": {
      "image/png": "[encoded data removed]",
      "text/plain": [
       "<Figure size 1500x1000 with 4 Axes>"
      ]
     },
     "metadata": {},
     "output_type": "display_data"
    }
   ],
   "source": [
    "# Visualization\n",
    "import matplotlib.pyplot as plt\n",
    "import seaborn as sns\n",
    "\n",
    "plt.figure(figsize=(15, 10))\n",
    "for i, col in enumerate(numerical_cols):\n",
    "    plt.subplot((len(numerical_cols)-1)//3 + 1, 3, i+1)\n",
    "    sns.boxplot(x=df[col])\n",
    "    plt.title(f'Boxplot of {col}')\n",
    "plt.tight_layout()\n",
    "plt.show()\n"
   ]
  },
  {
   "cell_type": "markdown",
   "id": "995e163f",
   "metadata": {},
   "source": [
    "# Encoding "
   ]
  },
  {
   "cell_type": "code",
   "execution_count": 11,
   "id": "fdca7321",
   "metadata": {},
   "outputs": [
    {
     "data": {
      "text/html": [
       "<div>\n",
       "<style scoped>\n",
       "    .dataframe tbody tr th:only-of-type {\n",
       "        vertical-align: middle;\n",
       "    }\n",
       "\n",
       "    .dataframe tbody tr th {\n",
       "        vertical-align: top;\n",
       "    }\n",
       "\n",
       "    .dataframe thead th {\n",
       "        text-align: right;\n",
       "    }\n",
       "</style>\n",
       "<table border=\"1\" class=\"dataframe\">\n",
       "  <thead>\n",
       "    <tr style=\"text-align: right;\">\n",
       "      <th></th>\n",
       "      <th>gender_female</th>\n",
       "      <th>gender_male</th>\n",
       "      <th>condition</th>\n",
       "      <th>age</th>\n",
       "      <th>bmi</th>\n",
       "      <th>blood_pressure</th>\n",
       "      <th>glucose_levels</th>\n",
       "    </tr>\n",
       "  </thead>\n",
       "  <tbody>\n",
       "    <tr>\n",
       "      <th>0</th>\n",
       "      <td>0.0</td>\n",
       "      <td>1.0</td>\n",
       "      <td>0.0</td>\n",
       "      <td>30</td>\n",
       "      <td>15.294165</td>\n",
       "      <td>105.315064</td>\n",
       "      <td>87.25908</td>\n",
       "    </tr>\n",
       "    <tr>\n",
       "      <th>1</th>\n",
       "      <td>0.0</td>\n",
       "      <td>1.0</td>\n",
       "      <td>1.0</td>\n",
       "      <td>18</td>\n",
       "      <td>35.612486</td>\n",
       "      <td>172.988309</td>\n",
       "      <td>186.468906</td>\n",
       "    </tr>\n",
       "    <tr>\n",
       "      <th>2</th>\n",
       "      <td>0.0</td>\n",
       "      <td>1.0</td>\n",
       "      <td>0.0</td>\n",
       "      <td>76</td>\n",
       "      <td>21.926526</td>\n",
       "      <td>119.984737</td>\n",
       "      <td>137.44193</td>\n",
       "    </tr>\n",
       "    <tr>\n",
       "      <th>3</th>\n",
       "      <td>0.0</td>\n",
       "      <td>1.0</td>\n",
       "      <td>0.0</td>\n",
       "      <td>40</td>\n",
       "      <td>33.840723</td>\n",
       "      <td>162.603987</td>\n",
       "      <td>73.809421</td>\n",
       "    </tr>\n",
       "    <tr>\n",
       "      <th>4</th>\n",
       "      <td>0.0</td>\n",
       "      <td>1.0</td>\n",
       "      <td>2.0</td>\n",
       "      <td>49</td>\n",
       "      <td>18.468399</td>\n",
       "      <td>166.759942</td>\n",
       "      <td>153.151126</td>\n",
       "    </tr>\n",
       "  </tbody>\n",
       "</table>\n",
       "</div>"
      ],
      "text/plain": [
       "  gender_female gender_male condition age        bmi blood_pressure  \\\n",
       "0           0.0         1.0       0.0  30  15.294165     105.315064   \n",
       "1           0.0         1.0       1.0  18  35.612486     172.988309   \n",
       "2           0.0         1.0       0.0  76  21.926526     119.984737   \n",
       "3           0.0         1.0       0.0  40  33.840723     162.603987   \n",
       "4           0.0         1.0       2.0  49  18.468399     166.759942   \n",
       "\n",
       "  glucose_levels  \n",
       "0       87.25908  \n",
       "1     186.468906  \n",
       "2      137.44193  \n",
       "3      73.809421  \n",
       "4     153.151126  "
      ]
     },
     "execution_count": 11,
     "metadata": {},
     "output_type": "execute_result"
    }
   ],
   "source": [
    "from sklearn.preprocessing import LabelEncoder, OneHotEncoder, OrdinalEncoder, StandardScaler\n",
    "from sklearn.compose import ColumnTransformer\n",
    "import pandas as pd\n",
    "\n",
    "# Step 1: Separate features and target\n",
    "y = df['smoking_status'] \n",
    "encod3 = LabelEncoder()\n",
    "y = encod3.fit_transform(y) \n",
    "\n",
    "# Step 2: Define columns for encoding\n",
    "onehot_cols = [\"gender\"]\n",
    "ordinal_cols = [\"condition\"]\n",
    "feature_cols = [col for col in df.columns if col not in ([\"smoking_status\"])]  # all features except target\n",
    "\n",
    "# Step 3: Define ColumnTransformer\n",
    "ct = ColumnTransformer(transformers=[\n",
    "    ('gender_onehot', OneHotEncoder(sparse_output=False, handle_unknown='ignore'), onehot_cols),\n",
    "    ('condition_ordinal', OrdinalEncoder(categories=[[\"Diabetic\", \"Pneumonia\", \"Cancer\"]]), ordinal_cols)\n",
    "], remainder=\"passthrough\")\n",
    "\n",
    "# Step 4: Fit and transform only features\n",
    "X = ct.fit_transform(df[feature_cols])  # Only features, not target\n",
    "\n",
    "# Step 5: Create column names for the new DataFrame\n",
    "new_columns = []\n",
    "new_columns += list(ct.named_transformers_['gender_onehot'].get_feature_names_out(onehot_cols))  # OneHot names\n",
    "new_columns += ordinal_cols  # Ordinal names\n",
    "# Passthrough columns: all columns not encoded\n",
    "passthrough_cols = [col for col in feature_cols if col not in onehot_cols + ordinal_cols]\n",
    "new_columns += passthrough_cols\n",
    "\n",
    "# Step 6: Reconstruct final X DataFrame\n",
    "X = pd.DataFrame(X, columns=new_columns)\n",
    "X.head()"
   ]
  },
  {
   "cell_type": "markdown",
   "id": "03386c92",
   "metadata": {},
   "source": [
    "# Scaling "
   ]
  },
  {
   "cell_type": "code",
   "execution_count": 12,
   "id": "8750bbb8",
   "metadata": {},
   "outputs": [
    {
     "name": "stderr",
     "output_type": "stream",
     "text": [
      "/var/folders/3z/04dfh84n663cm0t0v83rlcv00000gn/T/ipykernel_4364/2021023578.py:6: SettingWithCopyWarning: \n",
      "A value is trying to be set on a copy of a slice from a DataFrame.\n",
      "Try using .loc[row_indexer,col_indexer] = value instead\n",
      "\n",
      "See the caveats in the documentation: https://pandas.pydata.org/pandas-docs/stable/user_guide/indexing.html#returning-a-view-versus-a-copy\n",
      "  df[columns_to_scale] = scaler.fit_transform(df[columns_to_scale])\n"
     ]
    },
    {
     "data": {
      "text/html": [
       "<div>\n",
       "<style scoped>\n",
       "    .dataframe tbody tr th:only-of-type {\n",
       "        vertical-align: middle;\n",
       "    }\n",
       "\n",
       "    .dataframe tbody tr th {\n",
       "        vertical-align: top;\n",
       "    }\n",
       "\n",
       "    .dataframe thead th {\n",
       "        text-align: right;\n",
       "    }\n",
       "</style>\n",
       "<table border=\"1\" class=\"dataframe\">\n",
       "  <thead>\n",
       "    <tr style=\"text-align: right;\">\n",
       "      <th></th>\n",
       "      <th>age</th>\n",
       "      <th>gender</th>\n",
       "      <th>smoking_status</th>\n",
       "      <th>bmi</th>\n",
       "      <th>blood_pressure</th>\n",
       "      <th>glucose_levels</th>\n",
       "      <th>condition</th>\n",
       "    </tr>\n",
       "  </thead>\n",
       "  <tbody>\n",
       "    <tr>\n",
       "      <th>0</th>\n",
       "      <td>-1.125144</td>\n",
       "      <td>male</td>\n",
       "      <td>Non-Smoker</td>\n",
       "      <td>-1.724287</td>\n",
       "      <td>-1.173965</td>\n",
       "      <td>-1.261954</td>\n",
       "      <td>Diabetic</td>\n",
       "    </tr>\n",
       "    <tr>\n",
       "      <th>1</th>\n",
       "      <td>-1.698670</td>\n",
       "      <td>male</td>\n",
       "      <td>Non-Smoker</td>\n",
       "      <td>1.105948</td>\n",
       "      <td>1.442691</td>\n",
       "      <td>1.359157</td>\n",
       "      <td>Pneumonia</td>\n",
       "    </tr>\n",
       "    <tr>\n",
       "      <th>2</th>\n",
       "      <td>1.073374</td>\n",
       "      <td>male</td>\n",
       "      <td>Non-Smoker</td>\n",
       "      <td>-0.800434</td>\n",
       "      <td>-0.606747</td>\n",
       "      <td>0.063871</td>\n",
       "      <td>Diabetic</td>\n",
       "    </tr>\n",
       "    <tr>\n",
       "      <th>3</th>\n",
       "      <td>-0.647205</td>\n",
       "      <td>male</td>\n",
       "      <td>Non-Smoker</td>\n",
       "      <td>0.859151</td>\n",
       "      <td>1.041171</td>\n",
       "      <td>-1.617293</td>\n",
       "      <td>Diabetic</td>\n",
       "    </tr>\n",
       "    <tr>\n",
       "      <th>4</th>\n",
       "      <td>-0.217060</td>\n",
       "      <td>male</td>\n",
       "      <td>Smoker</td>\n",
       "      <td>-1.282133</td>\n",
       "      <td>1.201865</td>\n",
       "      <td>0.478906</td>\n",
       "      <td>Cancer</td>\n",
       "    </tr>\n",
       "  </tbody>\n",
       "</table>\n",
       "</div>"
      ],
      "text/plain": [
       "        age gender smoking_status       bmi  blood_pressure  glucose_levels  \\\n",
       "0 -1.125144   male     Non-Smoker -1.724287       -1.173965       -1.261954   \n",
       "1 -1.698670   male     Non-Smoker  1.105948        1.442691        1.359157   \n",
       "2  1.073374   male     Non-Smoker -0.800434       -0.606747        0.063871   \n",
       "3 -0.647205   male     Non-Smoker  0.859151        1.041171       -1.617293   \n",
       "4 -0.217060   male         Smoker -1.282133        1.201865        0.478906   \n",
       "\n",
       "   condition  \n",
       "0   Diabetic  \n",
       "1  Pneumonia  \n",
       "2   Diabetic  \n",
       "3   Diabetic  \n",
       "4     Cancer  "
      ]
     },
     "execution_count": 12,
     "metadata": {},
     "output_type": "execute_result"
    }
   ],
   "source": [
    "from sklearn.preprocessing import StandardScaler\n",
    "# Specify the columns to scale\n",
    "columns_to_scale = ['age', 'bmi', 'blood_pressure', 'glucose_levels']\n",
    "scaler = StandardScaler()\n",
    "# Fit and transform \n",
    "df[columns_to_scale] = scaler.fit_transform(df[columns_to_scale])\n",
    "df.head()  "
   ]
  },
  {
   "cell_type": "markdown",
   "id": "be003d85",
   "metadata": {},
   "source": [
    "# 2. Model Training and Evaluation "
   ]
  },
  {
   "cell_type": "markdown",
   "id": "946d43e3",
   "metadata": {},
   "source": [
    "I chose to evaluate **Logistic Regression, Random Forest, and Support Vector Machine (SVM)** models for this dataset to identify the most effective approach for predicting smoking status (smoker or non-smoker). **Logistic Regression** was selected for its simplicity, interpretability, and suitability for binary classification. It provides clear insights into how each feature—such as age, gender, and income—influences the likelihood of smoking, which is valuable for explaining the results. **Random Forest** was included due to its ability to capture complex, non-linear patterns and handle feature interactions automatically, making it robust and less prone to overfitting. It also handles imbalanced data more effectively through its ensemble nature. **SVM** was considered because of its effectiveness in high-dimensional spaces and its strong theoretical foundations for binary classification tasks. By comparing these three models, I was able to balance interpretability, predictive performance, and robustness, ultimately helping to identify the most appropriate model for this classification problem.\n"
   ]
  },
  {
   "cell_type": "markdown",
   "id": "44969f80",
   "metadata": {},
   "source": [
    "# Train Test Split "
   ]
  },
  {
   "cell_type": "code",
   "execution_count": 13,
   "id": "c60d4aee",
   "metadata": {},
   "outputs": [],
   "source": [
    "X_train, X_test, y_train, y_test = train_test_split(X, y, test_size=0.2, random_state=42, stratify=y)"
   ]
  },
  {
   "cell_type": "markdown",
   "id": "910a1a3c",
   "metadata": {},
   "source": [
    "# Model 1 - Logistic Regression "
   ]
  },
  {
   "cell_type": "code",
   "execution_count": 14,
   "id": "c0541395",
   "metadata": {},
   "outputs": [
    {
     "data": {
      "text/html": [
       "<style>#sk-container-id-1 {color: black;}#sk-container-id-1 pre{padding: 0;}#sk-container-id-1 div.sk-toggleable {background-color: white;}#sk-container-id-1 label.sk-toggleable__label {cursor: pointer;display: block;width: 100%;margin-bottom: 0;padding: 0.3em;box-sizing: border-box;text-align: center;}#sk-container-id-1 label.sk-toggleable__label-arrow:before {content: \"▸\";float: left;margin-right: 0.25em;color: #696969;}#sk-container-id-1 label.sk-toggleable__label-arrow:hover:before {color: black;}#sk-container-id-1 div.sk-estimator:hover label.sk-toggleable__label-arrow:before {color: black;}#sk-container-id-1 div.sk-toggleable__content {max-height: 0;max-width: 0;overflow: hidden;text-align: left;background-color: #f0f8ff;}#sk-container-id-1 div.sk-toggleable__content pre {margin: 0.2em;color: black;border-radius: 0.25em;background-color: #f0f8ff;}#sk-container-id-1 input.sk-toggleable__control:checked~div.sk-toggleable__content {max-height: 200px;max-width: 100%;overflow: auto;}#sk-container-id-1 input.sk-toggleable__control:checked~label.sk-toggleable__label-arrow:before {content: \"▾\";}#sk-container-id-1 div.sk-estimator input.sk-toggleable__control:checked~label.sk-toggleable__label {background-color: #d4ebff;}#sk-container-id-1 div.sk-label input.sk-toggleable__control:checked~label.sk-toggleable__label {background-color: #d4ebff;}#sk-container-id-1 input.sk-hidden--visually {border: 0;clip: rect(1px 1px 1px 1px);clip: rect(1px, 1px, 1px, 1px);height: 1px;margin: -1px;overflow: hidden;padding: 0;position: absolute;width: 1px;}#sk-container-id-1 div.sk-estimator {font-family: monospace;background-color: #f0f8ff;border: 1px dotted black;border-radius: 0.25em;box-sizing: border-box;margin-bottom: 0.5em;}#sk-container-id-1 div.sk-estimator:hover {background-color: #d4ebff;}#sk-container-id-1 div.sk-parallel-item::after {content: \"\";width: 100%;border-bottom: 1px solid gray;flex-grow: 1;}#sk-container-id-1 div.sk-label:hover label.sk-toggleable__label {background-color: #d4ebff;}#sk-container-id-1 div.sk-serial::before {content: \"\";position: absolute;border-left: 1px solid gray;box-sizing: border-box;top: 0;bottom: 0;left: 50%;z-index: 0;}#sk-container-id-1 div.sk-serial {display: flex;flex-direction: column;align-items: center;background-color: white;padding-right: 0.2em;padding-left: 0.2em;position: relative;}#sk-container-id-1 div.sk-item {position: relative;z-index: 1;}#sk-container-id-1 div.sk-parallel {display: flex;align-items: stretch;justify-content: center;background-color: white;position: relative;}#sk-container-id-1 div.sk-item::before, #sk-container-id-1 div.sk-parallel-item::before {content: \"\";position: absolute;border-left: 1px solid gray;box-sizing: border-box;top: 0;bottom: 0;left: 50%;z-index: -1;}#sk-container-id-1 div.sk-parallel-item {display: flex;flex-direction: column;z-index: 1;position: relative;background-color: white;}#sk-container-id-1 div.sk-parallel-item:first-child::after {align-self: flex-end;width: 50%;}#sk-container-id-1 div.sk-parallel-item:last-child::after {align-self: flex-start;width: 50%;}#sk-container-id-1 div.sk-parallel-item:only-child::after {width: 0;}#sk-container-id-1 div.sk-dashed-wrapped {border: 1px dashed gray;margin: 0 0.4em 0.5em 0.4em;box-sizing: border-box;padding-bottom: 0.4em;background-color: white;}#sk-container-id-1 div.sk-label label {font-family: monospace;font-weight: bold;display: inline-block;line-height: 1.2em;}#sk-container-id-1 div.sk-label-container {text-align: center;}#sk-container-id-1 div.sk-container {/* jupyter's `normalize.less` sets `[hidden] { display: none; }` but bootstrap.min.css set `[hidden] { display: none !important; }` so we also need the `!important` here to be able to override the default hidden behavior on the sphinx rendered scikit-learn.org. See: https://github.com/scikit-learn/scikit-learn/issues/21755 */display: inline-block !important;position: relative;}#sk-container-id-1 div.sk-text-repr-fallback {display: none;}</style><div id=\"sk-container-id-1\" class=\"sk-top-container\"><div class=\"sk-text-repr-fallback\"><pre>LogisticRegression(max_iter=1000)</pre><b>In a Jupyter environment, please rerun this cell to show the HTML representation or trust the notebook. <br />On GitHub, the HTML representation is unable to render, please try loading this page with nbviewer.org.</b></div><div class=\"sk-container\" hidden><div class=\"sk-item\"><div class=\"sk-estimator sk-toggleable\"><input class=\"sk-toggleable__control sk-hidden--visually\" id=\"sk-estimator-id-1\" type=\"checkbox\" checked><label for=\"sk-estimator-id-1\" class=\"sk-toggleable__label sk-toggleable__label-arrow\">LogisticRegression</label><div class=\"sk-toggleable__content\"><pre>LogisticRegression(max_iter=1000)</pre></div></div></div></div></div>"
      ],
      "text/plain": [
       "LogisticRegression(max_iter=1000)"
      ]
     },
     "execution_count": 14,
     "metadata": {},
     "output_type": "execute_result"
    }
   ],
   "source": [
    "model = LogisticRegression(max_iter=1000)\n",
    "model.fit(X_train, y_train)\n",
    "y_pred = model.predict(X_test)\n",
    "model"
   ]
  },
  {
   "cell_type": "markdown",
   "id": "7f7c0068",
   "metadata": {},
   "source": [
    "# Evaluation Metrics "
   ]
  },
  {
   "cell_type": "code",
   "execution_count": 15,
   "id": "d0e07a67",
   "metadata": {},
   "outputs": [
    {
     "name": "stdout",
     "output_type": "stream",
     "text": [
      "Accuracy:  0.9027\n",
      "Precision (Macro): 0.4513\n",
      "Recall (Macro):    0.5000\n",
      "F1 Score (Macro):  0.4744\n",
      "\n",
      "Confusion Matrix:\n",
      "[[983   0]\n",
      " [106   0]]\n"
     ]
    }
   ],
   "source": [
    "from sklearn.linear_model import LogisticRegression\n",
    "from sklearn.metrics import accuracy_score, precision_score, recall_score, f1_score, classification_report, confusion_matrix\n",
    "\n",
    "\n",
    "accuracy = accuracy_score(y_test, y_pred)\n",
    "precision = precision_score(y_test, y_pred, average='macro', zero_division=0)\n",
    "recall = recall_score(y_test, y_pred, average='macro', zero_division=0)\n",
    "f1 = f1_score(y_test, y_pred, average='macro', zero_division=0)\n",
    "cm = confusion_matrix(y_test, y_pred)\n",
    "\n",
    "\n",
    "print(f\"Accuracy:  {accuracy:.4f}\")\n",
    "print(f\"Precision (Macro): {precision:.4f}\")\n",
    "print(f\"Recall (Macro):    {recall:.4f}\")\n",
    "print(f\"F1 Score (Macro):  {f1:.4f}\")\n",
    "print(\"\\nConfusion Matrix:\")\n",
    "print(cm)\n"
   ]
  },
  {
   "cell_type": "markdown",
   "id": "9a8a5437",
   "metadata": {},
   "source": [
    "# Cross Validation "
   ]
  },
  {
   "cell_type": "code",
   "execution_count": 16,
   "id": "2ded8373",
   "metadata": {},
   "outputs": [
    {
     "data": {
      "text/plain": [
       "array([0.90252294, 0.90355913, 0.90241102, 0.90241102, 0.90241102])"
      ]
     },
     "execution_count": 16,
     "metadata": {},
     "output_type": "execute_result"
    }
   ],
   "source": [
    "from sklearn.model_selection import cross_val_score\n",
    "cross_val_score(model, X_train, y_train, cv=5, scoring='accuracy')"
   ]
  },
  {
   "cell_type": "markdown",
   "id": "b6ded5d0",
   "metadata": {},
   "source": [
    "# Hyperparameter Tuning using best parameters "
   ]
  },
  {
   "cell_type": "code",
   "execution_count": 17,
   "id": "fcc913da",
   "metadata": {},
   "outputs": [],
   "source": [
    "from sklearn.preprocessing import StandardScaler\n",
    "from sklearn.compose import ColumnTransformer\n",
    "from sklearn.linear_model import LogisticRegression\n",
    "from sklearn.metrics import classification_report\n",
    "\n",
    "# Define numeric features (already one-hot encoded)\n",
    "numeric_features = [\n",
    "    'age', 'bmi', 'blood_pressure', 'glucose_levels', \n",
    "    'gender_female', 'gender_male', 'condition'\n",
    "]\n",
    "\n",
    "# Preprocessing: scale numeric features only\n",
    "preprocessor = ColumnTransformer(transformers=[\n",
    "    ('num', StandardScaler(), numeric_features)\n",
    "], remainder='passthrough')\n",
    "\n",
    "# Fit and transform X_train, transform X_test\n",
    "X_train_scaled = preprocessor.fit_transform(X_train)\n",
    "X_test_scaled = preprocessor.transform(X_test)\n",
    "\n",
    "# Train Logistic Regression with best params\n",
    "final_model = LogisticRegression(\n",
    "    C=0.01,\n",
    "    penalty='l2',\n",
    "    solver='lbfgs',\n",
    "    max_iter=100,\n",
    "    fit_intercept=True,\n",
    "    random_state=42,\n",
    "    class_weight='balanced'\n",
    ")\n",
    "final_model.fit(X_train_scaled, y_train)\n",
    "\n",
    "# Predict on test set\n",
    "y_pred = final_model.predict(X_test_scaled)"
   ]
  },
  {
   "cell_type": "markdown",
   "id": "898d0611",
   "metadata": {},
   "source": [
    "# New Evaluation Metrics "
   ]
  },
  {
   "cell_type": "code",
   "execution_count": 18,
   "id": "f47b7397",
   "metadata": {},
   "outputs": [
    {
     "name": "stdout",
     "output_type": "stream",
     "text": [
      "Accuracy: 0.3949\n",
      "Precision (Macro): 0.5067\n",
      "Recall (Macro): 0.5175\n",
      "F1 Score (Macro): 0.3494\n",
      "\n",
      "Confusion Matrix:\n",
      "[[359 624]\n",
      " [ 35  71]]\n"
     ]
    }
   ],
   "source": [
    "from sklearn.metrics import accuracy_score, precision_score, recall_score, f1_score, confusion_matrix, classification_report, roc_auc_score\n",
    "\n",
    "# Accuracy\n",
    "accuracy = accuracy_score(y_test, y_pred)\n",
    "print(f\"Accuracy: {accuracy:.4f}\")\n",
    "\n",
    "# Precision (macro)\n",
    "precision = precision_score(y_test, y_pred, average='macro')\n",
    "print(f\"Precision (Macro): {precision:.4f}\")\n",
    "\n",
    "# Recall (macro)\n",
    "recall = recall_score(y_test, y_pred, average='macro')\n",
    "print(f\"Recall (Macro): {recall:.4f}\")\n",
    "\n",
    "# F1 Score (macro)\n",
    "f1 = f1_score(y_test, y_pred, average='macro')\n",
    "print(f\"F1 Score (Macro): {f1:.4f}\")\n",
    "\n",
    "# Confusion Matrix\n",
    "conf_matrix = confusion_matrix(y_test, y_pred)\n",
    "print(\"\\nConfusion Matrix:\")\n",
    "print(conf_matrix)"
   ]
  },
  {
   "cell_type": "markdown",
   "id": "75cbb625",
   "metadata": {},
   "source": [
    "# Model 2 - Random Forest "
   ]
  },
  {
   "cell_type": "code",
   "execution_count": 19,
   "id": "b4a75c51",
   "metadata": {},
   "outputs": [
    {
     "data": {
      "text/html": [
       "<style>#sk-container-id-2 {color: black;}#sk-container-id-2 pre{padding: 0;}#sk-container-id-2 div.sk-toggleable {background-color: white;}#sk-container-id-2 label.sk-toggleable__label {cursor: pointer;display: block;width: 100%;margin-bottom: 0;padding: 0.3em;box-sizing: border-box;text-align: center;}#sk-container-id-2 label.sk-toggleable__label-arrow:before {content: \"▸\";float: left;margin-right: 0.25em;color: #696969;}#sk-container-id-2 label.sk-toggleable__label-arrow:hover:before {color: black;}#sk-container-id-2 div.sk-estimator:hover label.sk-toggleable__label-arrow:before {color: black;}#sk-container-id-2 div.sk-toggleable__content {max-height: 0;max-width: 0;overflow: hidden;text-align: left;background-color: #f0f8ff;}#sk-container-id-2 div.sk-toggleable__content pre {margin: 0.2em;color: black;border-radius: 0.25em;background-color: #f0f8ff;}#sk-container-id-2 input.sk-toggleable__control:checked~div.sk-toggleable__content {max-height: 200px;max-width: 100%;overflow: auto;}#sk-container-id-2 input.sk-toggleable__control:checked~label.sk-toggleable__label-arrow:before {content: \"▾\";}#sk-container-id-2 div.sk-estimator input.sk-toggleable__control:checked~label.sk-toggleable__label {background-color: #d4ebff;}#sk-container-id-2 div.sk-label input.sk-toggleable__control:checked~label.sk-toggleable__label {background-color: #d4ebff;}#sk-container-id-2 input.sk-hidden--visually {border: 0;clip: rect(1px 1px 1px 1px);clip: rect(1px, 1px, 1px, 1px);height: 1px;margin: -1px;overflow: hidden;padding: 0;position: absolute;width: 1px;}#sk-container-id-2 div.sk-estimator {font-family: monospace;background-color: #f0f8ff;border: 1px dotted black;border-radius: 0.25em;box-sizing: border-box;margin-bottom: 0.5em;}#sk-container-id-2 div.sk-estimator:hover {background-color: #d4ebff;}#sk-container-id-2 div.sk-parallel-item::after {content: \"\";width: 100%;border-bottom: 1px solid gray;flex-grow: 1;}#sk-container-id-2 div.sk-label:hover label.sk-toggleable__label {background-color: #d4ebff;}#sk-container-id-2 div.sk-serial::before {content: \"\";position: absolute;border-left: 1px solid gray;box-sizing: border-box;top: 0;bottom: 0;left: 50%;z-index: 0;}#sk-container-id-2 div.sk-serial {display: flex;flex-direction: column;align-items: center;background-color: white;padding-right: 0.2em;padding-left: 0.2em;position: relative;}#sk-container-id-2 div.sk-item {position: relative;z-index: 1;}#sk-container-id-2 div.sk-parallel {display: flex;align-items: stretch;justify-content: center;background-color: white;position: relative;}#sk-container-id-2 div.sk-item::before, #sk-container-id-2 div.sk-parallel-item::before {content: \"\";position: absolute;border-left: 1px solid gray;box-sizing: border-box;top: 0;bottom: 0;left: 50%;z-index: -1;}#sk-container-id-2 div.sk-parallel-item {display: flex;flex-direction: column;z-index: 1;position: relative;background-color: white;}#sk-container-id-2 div.sk-parallel-item:first-child::after {align-self: flex-end;width: 50%;}#sk-container-id-2 div.sk-parallel-item:last-child::after {align-self: flex-start;width: 50%;}#sk-container-id-2 div.sk-parallel-item:only-child::after {width: 0;}#sk-container-id-2 div.sk-dashed-wrapped {border: 1px dashed gray;margin: 0 0.4em 0.5em 0.4em;box-sizing: border-box;padding-bottom: 0.4em;background-color: white;}#sk-container-id-2 div.sk-label label {font-family: monospace;font-weight: bold;display: inline-block;line-height: 1.2em;}#sk-container-id-2 div.sk-label-container {text-align: center;}#sk-container-id-2 div.sk-container {/* jupyter's `normalize.less` sets `[hidden] { display: none; }` but bootstrap.min.css set `[hidden] { display: none !important; }` so we also need the `!important` here to be able to override the default hidden behavior on the sphinx rendered scikit-learn.org. See: https://github.com/scikit-learn/scikit-learn/issues/21755 */display: inline-block !important;position: relative;}#sk-container-id-2 div.sk-text-repr-fallback {display: none;}</style><div id=\"sk-container-id-2\" class=\"sk-top-container\"><div class=\"sk-text-repr-fallback\"><pre>RandomForestClassifier(random_state=42)</pre><b>In a Jupyter environment, please rerun this cell to show the HTML representation or trust the notebook. <br />On GitHub, the HTML representation is unable to render, please try loading this page with nbviewer.org.</b></div><div class=\"sk-container\" hidden><div class=\"sk-item\"><div class=\"sk-estimator sk-toggleable\"><input class=\"sk-toggleable__control sk-hidden--visually\" id=\"sk-estimator-id-2\" type=\"checkbox\" checked><label for=\"sk-estimator-id-2\" class=\"sk-toggleable__label sk-toggleable__label-arrow\">RandomForestClassifier</label><div class=\"sk-toggleable__content\"><pre>RandomForestClassifier(random_state=42)</pre></div></div></div></div></div>"
      ],
      "text/plain": [
       "RandomForestClassifier(random_state=42)"
      ]
     },
     "execution_count": 19,
     "metadata": {},
     "output_type": "execute_result"
    }
   ],
   "source": [
    "from sklearn.ensemble import RandomForestClassifier\n",
    "rf_model = RandomForestClassifier(random_state=42)\n",
    "rf_model.fit(X_train, y_train)\n",
    "y_pred_rf = rf_model.predict(X_test)\n",
    "rf_model"
   ]
  },
  {
   "cell_type": "markdown",
   "id": "6b8e227a",
   "metadata": {},
   "source": [
    "# Evaluation Metrics "
   ]
  },
  {
   "cell_type": "code",
   "execution_count": 34,
   "id": "e6ab3a6a",
   "metadata": {},
   "outputs": [
    {
     "name": "stdout",
     "output_type": "stream",
     "text": [
      "Random Forest Classifier Evaluation Metrics:\n",
      "Accuracy: 0.9027\n",
      "Precision (Macro): 0.4513\n",
      "Recall (Macro): 0.5000\n",
      "F1 Score (Macro): 0.4744\n",
      "OOB Score: 0.9029\n",
      "\n",
      "Confusion Matrix:\n",
      "[[983   0]\n",
      " [106   0]]\n"
     ]
    }
   ],
   "source": [
    "from sklearn.ensemble import RandomForestClassifier\n",
    "from sklearn.metrics import accuracy_score, precision_score, recall_score, f1_score, classification_report, confusion_matrix\n",
    "\n",
    "# Train Random Forest with OOB score enabled\n",
    "rf_model = RandomForestClassifier(random_state=42, oob_score=True)\n",
    "rf_model.fit(X_train, y_train)\n",
    "\n",
    "# Predictions\n",
    "y_pred_rf = rf_model.predict(X_test)\n",
    "\n",
    "# Accuracy\n",
    "accuracy = accuracy_score(y_test, y_pred_rf)\n",
    "\n",
    "# Precision, Recall, F1 (macro averages for multiclass fairness)\n",
    "precision = precision_score(y_test, y_pred_rf, average='macro', zero_division=0)\n",
    "recall = recall_score(y_test, y_pred_rf, average='macro', zero_division=0)\n",
    "f1 = f1_score(y_test, y_pred_rf, average='macro', zero_division=0)\n",
    "\n",
    "# Confusion Matrix\n",
    "conf_matrix = confusion_matrix(y_test, y_pred_rf)\n",
    "\n",
    "# OOB Score\n",
    "oob_score = rf_model.oob_score_\n",
    "\n",
    "# Print metrics\n",
    "print(\"Random Forest Classifier Evaluation Metrics:\")\n",
    "print(f\"Accuracy: {accuracy:.4f}\")\n",
    "print(f\"Precision (Macro): {precision:.4f}\")\n",
    "print(f\"Recall (Macro): {recall:.4f}\")\n",
    "print(f\"F1 Score (Macro): {f1:.4f}\")\n",
    "print(f\"OOB Score: {oob_score:.4f}\")\n",
    "print(\"\\nConfusion Matrix:\")\n",
    "print(conf_matrix)\n"
   ]
  },
  {
   "cell_type": "markdown",
   "id": "30bb04d2",
   "metadata": {},
   "source": [
    "# Cross Validation "
   ]
  },
  {
   "cell_type": "code",
   "execution_count": 21,
   "id": "c8fe83e2",
   "metadata": {},
   "outputs": [
    {
     "data": {
      "text/plain": [
       "array([0.90252294, 0.90355913, 0.90241102, 0.90241102, 0.90241102])"
      ]
     },
     "execution_count": 21,
     "metadata": {},
     "output_type": "execute_result"
    }
   ],
   "source": [
    "from sklearn.model_selection import cross_val_score\n",
    "cross_val_score(rf_model, X_train, y_train, cv=5, scoring='accuracy')"
   ]
  },
  {
   "cell_type": "markdown",
   "id": "0966b822",
   "metadata": {},
   "source": [
    "# Hyperparameter Tuning using best parameters "
   ]
  },
  {
   "cell_type": "code",
   "execution_count": 22,
   "id": "d0ad947e",
   "metadata": {},
   "outputs": [],
   "source": [
    "from sklearn.ensemble import RandomForestClassifier\n",
    "from sklearn.model_selection import GridSearchCV\n",
    "from sklearn.pipeline import Pipeline\n",
    "from sklearn.metrics import classification_report\n",
    "\n",
    "# Define the preprocessing pipeline\n",
    "preprocessor = ColumnTransformer(transformers=[\n",
    "    ('num', StandardScaler(), numeric_features)\n",
    "], remainder='passthrough')\n",
    "\n",
    "# Create a pipeline with preprocessing and Random Forest\n",
    "rf_pipeline = Pipeline(steps=[\n",
    "    ('preprocessor', preprocessor),\n",
    "    ('classifier', RandomForestClassifier(random_state=42))\n",
    "])\n",
    "\n",
    "# Hyperparameter grid for Random Forest\n",
    "rf_param_grid = {\n",
    "    'classifier__n_estimators': [100, 200],\n",
    "    'classifier__max_depth': [None, 10, 20],\n",
    "    'classifier__min_samples_split': [2, 5],\n",
    "    'classifier__min_samples_leaf': [1, 2]\n",
    "}\n",
    "\n",
    "# Grid search\n",
    "rf_grid_search = GridSearchCV(rf_pipeline, rf_param_grid, cv=5, scoring='f1_macro', n_jobs=-1)\n",
    "rf_grid_search.fit(X_train, y_train)\n",
    "\n",
    "# Best model and predictions\n",
    "best_rf = rf_grid_search.best_estimator_\n",
    "y_pred_rf = best_rf.predict(X_test)\n"
   ]
  },
  {
   "cell_type": "markdown",
   "id": "3fba15d3",
   "metadata": {},
   "source": [
    "# New Evaluation Metrics "
   ]
  },
  {
   "cell_type": "code",
   "execution_count": 35,
   "id": "1aae344e",
   "metadata": {},
   "outputs": [
    {
     "name": "stdout",
     "output_type": "stream",
     "text": [
      "Random Forest Classifier Evaluation Metrics:\n",
      "Accuracy: 0.9026629935720845\n",
      "Precision (Macro): 0.45133149678604223\n",
      "Recall (Macro): 0.5\n",
      "F1 Score (Macro): 0.4744208494208494\n",
      "OOB Score: 0.9028925619834711\n",
      "Confusion Matrix:\n",
      " [[983   0]\n",
      " [106   0]]\n",
      "\n",
      "\n"
     ]
    }
   ],
   "source": [
    "from sklearn.ensemble import RandomForestClassifier\n",
    "from sklearn.metrics import accuracy_score, precision_score, recall_score, f1_score, confusion_matrix\n",
    "\n",
    "# Re-train Random Forest with OOB score enabled\n",
    "rf_model = RandomForestClassifier(random_state=42, oob_score=True)\n",
    "rf_model.fit(X_train, y_train)\n",
    "\n",
    "# --- Random Forest Evaluation ---\n",
    "y_pred_rf = rf_model.predict(X_test)\n",
    "\n",
    "# Evaluation Metrics\n",
    "print(\"Random Forest Classifier Evaluation Metrics:\")\n",
    "print(\"Accuracy:\", accuracy_score(y_test, y_pred_rf))\n",
    "print(\"Precision (Macro):\", precision_score(y_test, y_pred_rf, average='macro', zero_division=0))\n",
    "print(\"Recall (Macro):\", recall_score(y_test, y_pred_rf, average='macro', zero_division=0))\n",
    "print(\"F1 Score (Macro):\", f1_score(y_test, y_pred_rf, average='macro', zero_division=0))\n",
    "print(\"OOB Score:\", rf_model.oob_score_)\n",
    "print(\"Confusion Matrix:\\n\", confusion_matrix(y_test, y_pred_rf))\n",
    "print(\"\\n\")\n"
   ]
  },
  {
   "cell_type": "markdown",
   "id": "dc7378d6",
   "metadata": {},
   "source": [
    "# Model 3 - SVM (Support Vector Machine)"
   ]
  },
  {
   "cell_type": "code",
   "execution_count": 24,
   "id": "8ce9aa32",
   "metadata": {},
   "outputs": [
    {
     "data": {
      "text/html": [
       "<style>#sk-container-id-3 {color: black;}#sk-container-id-3 pre{padding: 0;}#sk-container-id-3 div.sk-toggleable {background-color: white;}#sk-container-id-3 label.sk-toggleable__label {cursor: pointer;display: block;width: 100%;margin-bottom: 0;padding: 0.3em;box-sizing: border-box;text-align: center;}#sk-container-id-3 label.sk-toggleable__label-arrow:before {content: \"▸\";float: left;margin-right: 0.25em;color: #696969;}#sk-container-id-3 label.sk-toggleable__label-arrow:hover:before {color: black;}#sk-container-id-3 div.sk-estimator:hover label.sk-toggleable__label-arrow:before {color: black;}#sk-container-id-3 div.sk-toggleable__content {max-height: 0;max-width: 0;overflow: hidden;text-align: left;background-color: #f0f8ff;}#sk-container-id-3 div.sk-toggleable__content pre {margin: 0.2em;color: black;border-radius: 0.25em;background-color: #f0f8ff;}#sk-container-id-3 input.sk-toggleable__control:checked~div.sk-toggleable__content {max-height: 200px;max-width: 100%;overflow: auto;}#sk-container-id-3 input.sk-toggleable__control:checked~label.sk-toggleable__label-arrow:before {content: \"▾\";}#sk-container-id-3 div.sk-estimator input.sk-toggleable__control:checked~label.sk-toggleable__label {background-color: #d4ebff;}#sk-container-id-3 div.sk-label input.sk-toggleable__control:checked~label.sk-toggleable__label {background-color: #d4ebff;}#sk-container-id-3 input.sk-hidden--visually {border: 0;clip: rect(1px 1px 1px 1px);clip: rect(1px, 1px, 1px, 1px);height: 1px;margin: -1px;overflow: hidden;padding: 0;position: absolute;width: 1px;}#sk-container-id-3 div.sk-estimator {font-family: monospace;background-color: #f0f8ff;border: 1px dotted black;border-radius: 0.25em;box-sizing: border-box;margin-bottom: 0.5em;}#sk-container-id-3 div.sk-estimator:hover {background-color: #d4ebff;}#sk-container-id-3 div.sk-parallel-item::after {content: \"\";width: 100%;border-bottom: 1px solid gray;flex-grow: 1;}#sk-container-id-3 div.sk-label:hover label.sk-toggleable__label {background-color: #d4ebff;}#sk-container-id-3 div.sk-serial::before {content: \"\";position: absolute;border-left: 1px solid gray;box-sizing: border-box;top: 0;bottom: 0;left: 50%;z-index: 0;}#sk-container-id-3 div.sk-serial {display: flex;flex-direction: column;align-items: center;background-color: white;padding-right: 0.2em;padding-left: 0.2em;position: relative;}#sk-container-id-3 div.sk-item {position: relative;z-index: 1;}#sk-container-id-3 div.sk-parallel {display: flex;align-items: stretch;justify-content: center;background-color: white;position: relative;}#sk-container-id-3 div.sk-item::before, #sk-container-id-3 div.sk-parallel-item::before {content: \"\";position: absolute;border-left: 1px solid gray;box-sizing: border-box;top: 0;bottom: 0;left: 50%;z-index: -1;}#sk-container-id-3 div.sk-parallel-item {display: flex;flex-direction: column;z-index: 1;position: relative;background-color: white;}#sk-container-id-3 div.sk-parallel-item:first-child::after {align-self: flex-end;width: 50%;}#sk-container-id-3 div.sk-parallel-item:last-child::after {align-self: flex-start;width: 50%;}#sk-container-id-3 div.sk-parallel-item:only-child::after {width: 0;}#sk-container-id-3 div.sk-dashed-wrapped {border: 1px dashed gray;margin: 0 0.4em 0.5em 0.4em;box-sizing: border-box;padding-bottom: 0.4em;background-color: white;}#sk-container-id-3 div.sk-label label {font-family: monospace;font-weight: bold;display: inline-block;line-height: 1.2em;}#sk-container-id-3 div.sk-label-container {text-align: center;}#sk-container-id-3 div.sk-container {/* jupyter's `normalize.less` sets `[hidden] { display: none; }` but bootstrap.min.css set `[hidden] { display: none !important; }` so we also need the `!important` here to be able to override the default hidden behavior on the sphinx rendered scikit-learn.org. See: https://github.com/scikit-learn/scikit-learn/issues/21755 */display: inline-block !important;position: relative;}#sk-container-id-3 div.sk-text-repr-fallback {display: none;}</style><div id=\"sk-container-id-3\" class=\"sk-top-container\"><div class=\"sk-text-repr-fallback\"><pre>SVC()</pre><b>In a Jupyter environment, please rerun this cell to show the HTML representation or trust the notebook. <br />On GitHub, the HTML representation is unable to render, please try loading this page with nbviewer.org.</b></div><div class=\"sk-container\" hidden><div class=\"sk-item\"><div class=\"sk-estimator sk-toggleable\"><input class=\"sk-toggleable__control sk-hidden--visually\" id=\"sk-estimator-id-3\" type=\"checkbox\" checked><label for=\"sk-estimator-id-3\" class=\"sk-toggleable__label sk-toggleable__label-arrow\">SVC</label><div class=\"sk-toggleable__content\"><pre>SVC()</pre></div></div></div></div></div>"
      ],
      "text/plain": [
       "SVC()"
      ]
     },
     "execution_count": 24,
     "metadata": {},
     "output_type": "execute_result"
    }
   ],
   "source": [
    "from sklearn.svm import SVC\n",
    "svm_model = SVC()\n",
    "svm_model.fit(X_train, y_train)\n",
    "y_pred_svm = svm_model.predict(X_test)\n",
    "svm_model"
   ]
  },
  {
   "cell_type": "markdown",
   "id": "e955128d",
   "metadata": {},
   "source": [
    "# Evaluation Metrics"
   ]
  },
  {
   "cell_type": "code",
   "execution_count": 25,
   "id": "1916a517",
   "metadata": {},
   "outputs": [
    {
     "name": "stdout",
     "output_type": "stream",
     "text": [
      "Random Forest Classifier Evaluation Metrics:\n",
      "Accuracy: 0.9027\n",
      "Precision (Macro): 0.4513\n",
      "Recall (Macro): 0.5000\n",
      "F1 Score (Macro): 0.4744\n",
      "\n",
      "Confusion Matrix:\n",
      "[[983   0]\n",
      " [106   0]]\n"
     ]
    }
   ],
   "source": [
    "from sklearn.metrics import accuracy_score, precision_score, recall_score, f1_score, classification_report, confusion_matrix\n",
    "\n",
    "# Accuracy\n",
    "accuracy = accuracy_score(y_test, y_pred_rf)\n",
    "\n",
    "# Precision, Recall, F1 (macro averages for multiclass fairness)\n",
    "precision = precision_score(y_test, y_pred_rf, average='macro', zero_division=0)\n",
    "recall = recall_score(y_test, y_pred_rf, average='macro', zero_division=0)\n",
    "f1 = f1_score(y_test, y_pred_rf, average='macro', zero_division=0)\n",
    "\n",
    "# Confusion Matrix\n",
    "conf_matrix = confusion_matrix(y_test, y_pred_rf)\n",
    "\n",
    "# Print metrics\n",
    "print(\"Random Forest Classifier Evaluation Metrics:\")\n",
    "print(f\"Accuracy: {accuracy:.4f}\")\n",
    "print(f\"Precision (Macro): {precision:.4f}\")\n",
    "print(f\"Recall (Macro): {recall:.4f}\")\n",
    "print(f\"F1 Score (Macro): {f1:.4f}\")\n",
    "print(\"\\nConfusion Matrix:\")\n",
    "print(conf_matrix)\n"
   ]
  },
  {
   "cell_type": "markdown",
   "id": "2478a717",
   "metadata": {},
   "source": [
    "# Cross Validation "
   ]
  },
  {
   "cell_type": "code",
   "execution_count": 26,
   "id": "a60715a3",
   "metadata": {},
   "outputs": [
    {
     "data": {
      "text/plain": [
       "array([0.90252294, 0.90355913, 0.90241102, 0.90241102, 0.90241102])"
      ]
     },
     "execution_count": 26,
     "metadata": {},
     "output_type": "execute_result"
    }
   ],
   "source": [
    "from sklearn.model_selection import cross_val_score\n",
    "cross_val_score(rf_model, X_train, y_train, cv=5, scoring='accuracy')"
   ]
  },
  {
   "cell_type": "markdown",
   "id": "c1de3050",
   "metadata": {},
   "source": [
    "# Hyperparameter Tuning with best parameters"
   ]
  },
  {
   "cell_type": "code",
   "execution_count": 27,
   "id": "b14950e4",
   "metadata": {},
   "outputs": [],
   "source": [
    "from sklearn.preprocessing import StandardScaler\n",
    "from sklearn.compose import ColumnTransformer\n",
    "from sklearn.svm import SVC\n",
    "from sklearn.metrics import classification_report\n",
    "\n",
    "# Define numeric features (already one-hot encoded)\n",
    "numeric_features = [\n",
    "    'age', 'bmi', 'blood_pressure', 'glucose_levels', \n",
    "    'gender_female', 'gender_male', 'condition'\n",
    "]\n",
    "\n",
    "# Preprocessing: scale numeric features only\n",
    "preprocessor = ColumnTransformer(transformers=[\n",
    "    ('num', StandardScaler(), numeric_features)\n",
    "], remainder='passthrough')\n",
    "\n",
    "# Fit and transform X_train, transform X_test\n",
    "X_train_scaled = preprocessor.fit_transform(X_train)\n",
    "X_test_scaled = preprocessor.transform(X_test)\n",
    "\n",
    "# Train SVM with selected parameters\n",
    "final_model = SVC(\n",
    "    C=0.01,\n",
    "    kernel='rbf',\n",
    "    gamma='scale',\n",
    "    class_weight='balanced',\n",
    "    random_state=42\n",
    ")\n",
    "final_model.fit(X_train_scaled, y_train)\n",
    "\n",
    "# Predict on test set\n",
    "y_pred = final_model.predict(X_test_scaled)\n"
   ]
  },
  {
   "cell_type": "markdown",
   "id": "92fc9f0d",
   "metadata": {},
   "source": [
    "# New Evaluation Metrics"
   ]
  },
  {
   "cell_type": "code",
   "execution_count": 28,
   "id": "25b77a48",
   "metadata": {},
   "outputs": [
    {
     "name": "stdout",
     "output_type": "stream",
     "text": [
      "Accuracy: 0.8907254361799817\n",
      "Precision (Macro): 0.5103160667251976\n",
      "Recall (Macro): 0.5018042572794104\n",
      "F1 Score (Macro): 0.4873063913120883\n",
      "Confusion Matrix:\n",
      " [[968  15]\n",
      " [104   2]]\n"
     ]
    }
   ],
   "source": [
    "# --- SVM Evaluation ---\n",
    "y_pred_svm = final_model.predict(X_test_scaled)\n",
    "\n",
    "print(\"Accuracy:\", accuracy_score(y_test, y_pred_svm))\n",
    "print(\"Precision (Macro):\", precision_score(y_test, y_pred_svm, average='macro'))\n",
    "print(\"Recall (Macro):\", recall_score(y_test, y_pred_svm, average='macro'))\n",
    "print(\"F1 Score (Macro):\", f1_score(y_test, y_pred_svm, average='macro'))\n",
    "print(\"Confusion Matrix:\\n\", confusion_matrix(y_test, y_pred_svm))"
   ]
  },
  {
   "cell_type": "markdown",
   "id": "0642f15c",
   "metadata": {},
   "source": [
    "# Choosing the best Model\n"
   ]
  },
  {
   "cell_type": "markdown",
   "id": "89ad078b",
   "metadata": {},
   "source": [
    "Highest F1 Score: SVM achieved an F1 Score of 0.4873, which is higher than both Random Forest (0.4744) and Logistic Regression (0.3494). This suggests it has the best balance between precision and recall.\n",
    "Strong Precision & Recall: With a precision of 0.5103 and recall of 0.5018, SVM slightly outperforms the others in both metrics.\n",
    "Robustness to High-Dimensionality: SVM is particularly effective in datasets with complex or non-linear boundaries, making it suitable if the smoking status depends on multiple interacting features."
   ]
  },
  {
   "cell_type": "markdown",
   "id": "c3b5add6",
   "metadata": {},
   "source": [
    "# Pipeline "
   ]
  },
  {
   "cell_type": "code",
   "execution_count": 29,
   "id": "f643ca5f",
   "metadata": {},
   "outputs": [
    {
     "data": {
      "text/html": [
       "<style>#sk-container-id-4 {color: black;}#sk-container-id-4 pre{padding: 0;}#sk-container-id-4 div.sk-toggleable {background-color: white;}#sk-container-id-4 label.sk-toggleable__label {cursor: pointer;display: block;width: 100%;margin-bottom: 0;padding: 0.3em;box-sizing: border-box;text-align: center;}#sk-container-id-4 label.sk-toggleable__label-arrow:before {content: \"▸\";float: left;margin-right: 0.25em;color: #696969;}#sk-container-id-4 label.sk-toggleable__label-arrow:hover:before {color: black;}#sk-container-id-4 div.sk-estimator:hover label.sk-toggleable__label-arrow:before {color: black;}#sk-container-id-4 div.sk-toggleable__content {max-height: 0;max-width: 0;overflow: hidden;text-align: left;background-color: #f0f8ff;}#sk-container-id-4 div.sk-toggleable__content pre {margin: 0.2em;color: black;border-radius: 0.25em;background-color: #f0f8ff;}#sk-container-id-4 input.sk-toggleable__control:checked~div.sk-toggleable__content {max-height: 200px;max-width: 100%;overflow: auto;}#sk-container-id-4 input.sk-toggleable__control:checked~label.sk-toggleable__label-arrow:before {content: \"▾\";}#sk-container-id-4 div.sk-estimator input.sk-toggleable__control:checked~label.sk-toggleable__label {background-color: #d4ebff;}#sk-container-id-4 div.sk-label input.sk-toggleable__control:checked~label.sk-toggleable__label {background-color: #d4ebff;}#sk-container-id-4 input.sk-hidden--visually {border: 0;clip: rect(1px 1px 1px 1px);clip: rect(1px, 1px, 1px, 1px);height: 1px;margin: -1px;overflow: hidden;padding: 0;position: absolute;width: 1px;}#sk-container-id-4 div.sk-estimator {font-family: monospace;background-color: #f0f8ff;border: 1px dotted black;border-radius: 0.25em;box-sizing: border-box;margin-bottom: 0.5em;}#sk-container-id-4 div.sk-estimator:hover {background-color: #d4ebff;}#sk-container-id-4 div.sk-parallel-item::after {content: \"\";width: 100%;border-bottom: 1px solid gray;flex-grow: 1;}#sk-container-id-4 div.sk-label:hover label.sk-toggleable__label {background-color: #d4ebff;}#sk-container-id-4 div.sk-serial::before {content: \"\";position: absolute;border-left: 1px solid gray;box-sizing: border-box;top: 0;bottom: 0;left: 50%;z-index: 0;}#sk-container-id-4 div.sk-serial {display: flex;flex-direction: column;align-items: center;background-color: white;padding-right: 0.2em;padding-left: 0.2em;position: relative;}#sk-container-id-4 div.sk-item {position: relative;z-index: 1;}#sk-container-id-4 div.sk-parallel {display: flex;align-items: stretch;justify-content: center;background-color: white;position: relative;}#sk-container-id-4 div.sk-item::before, #sk-container-id-4 div.sk-parallel-item::before {content: \"\";position: absolute;border-left: 1px solid gray;box-sizing: border-box;top: 0;bottom: 0;left: 50%;z-index: -1;}#sk-container-id-4 div.sk-parallel-item {display: flex;flex-direction: column;z-index: 1;position: relative;background-color: white;}#sk-container-id-4 div.sk-parallel-item:first-child::after {align-self: flex-end;width: 50%;}#sk-container-id-4 div.sk-parallel-item:last-child::after {align-self: flex-start;width: 50%;}#sk-container-id-4 div.sk-parallel-item:only-child::after {width: 0;}#sk-container-id-4 div.sk-dashed-wrapped {border: 1px dashed gray;margin: 0 0.4em 0.5em 0.4em;box-sizing: border-box;padding-bottom: 0.4em;background-color: white;}#sk-container-id-4 div.sk-label label {font-family: monospace;font-weight: bold;display: inline-block;line-height: 1.2em;}#sk-container-id-4 div.sk-label-container {text-align: center;}#sk-container-id-4 div.sk-container {/* jupyter's `normalize.less` sets `[hidden] { display: none; }` but bootstrap.min.css set `[hidden] { display: none !important; }` so we also need the `!important` here to be able to override the default hidden behavior on the sphinx rendered scikit-learn.org. See: https://github.com/scikit-learn/scikit-learn/issues/21755 */display: inline-block !important;position: relative;}#sk-container-id-4 div.sk-text-repr-fallback {display: none;}</style><div id=\"sk-container-id-4\" class=\"sk-top-container\"><div class=\"sk-text-repr-fallback\"><pre>Pipeline(steps=[(&#x27;preprocessor&#x27;,\n",
       "                 ColumnTransformer(remainder=&#x27;passthrough&#x27;,\n",
       "                                   transformers=[(&#x27;gender_onehot&#x27;,\n",
       "                                                  OneHotEncoder(handle_unknown=&#x27;ignore&#x27;,\n",
       "                                                                sparse_output=False),\n",
       "                                                  [&#x27;gender&#x27;]),\n",
       "                                                 (&#x27;condition_ordinal&#x27;,\n",
       "                                                  OrdinalEncoder(categories=[[&#x27;Diabetic&#x27;,\n",
       "                                                                              &#x27;Pneumonia&#x27;,\n",
       "                                                                              &#x27;Cancer&#x27;]]),\n",
       "                                                  [&#x27;condition&#x27;])])),\n",
       "                (&#x27;classifier&#x27;, SVC(probability=True, random_state=42))])</pre><b>In a Jupyter environment, please rerun this cell to show the HTML representation or trust the notebook. <br />On GitHub, the HTML representation is unable to render, please try loading this page with nbviewer.org.</b></div><div class=\"sk-container\" hidden><div class=\"sk-item sk-dashed-wrapped\"><div class=\"sk-label-container\"><div class=\"sk-label sk-toggleable\"><input class=\"sk-toggleable__control sk-hidden--visually\" id=\"sk-estimator-id-4\" type=\"checkbox\" ><label for=\"sk-estimator-id-4\" class=\"sk-toggleable__label sk-toggleable__label-arrow\">Pipeline</label><div class=\"sk-toggleable__content\"><pre>Pipeline(steps=[(&#x27;preprocessor&#x27;,\n",
       "                 ColumnTransformer(remainder=&#x27;passthrough&#x27;,\n",
       "                                   transformers=[(&#x27;gender_onehot&#x27;,\n",
       "                                                  OneHotEncoder(handle_unknown=&#x27;ignore&#x27;,\n",
       "                                                                sparse_output=False),\n",
       "                                                  [&#x27;gender&#x27;]),\n",
       "                                                 (&#x27;condition_ordinal&#x27;,\n",
       "                                                  OrdinalEncoder(categories=[[&#x27;Diabetic&#x27;,\n",
       "                                                                              &#x27;Pneumonia&#x27;,\n",
       "                                                                              &#x27;Cancer&#x27;]]),\n",
       "                                                  [&#x27;condition&#x27;])])),\n",
       "                (&#x27;classifier&#x27;, SVC(probability=True, random_state=42))])</pre></div></div></div><div class=\"sk-serial\"><div class=\"sk-item sk-dashed-wrapped\"><div class=\"sk-label-container\"><div class=\"sk-label sk-toggleable\"><input class=\"sk-toggleable__control sk-hidden--visually\" id=\"sk-estimator-id-5\" type=\"checkbox\" ><label for=\"sk-estimator-id-5\" class=\"sk-toggleable__label sk-toggleable__label-arrow\">preprocessor: ColumnTransformer</label><div class=\"sk-toggleable__content\"><pre>ColumnTransformer(remainder=&#x27;passthrough&#x27;,\n",
       "                  transformers=[(&#x27;gender_onehot&#x27;,\n",
       "                                 OneHotEncoder(handle_unknown=&#x27;ignore&#x27;,\n",
       "                                               sparse_output=False),\n",
       "                                 [&#x27;gender&#x27;]),\n",
       "                                (&#x27;condition_ordinal&#x27;,\n",
       "                                 OrdinalEncoder(categories=[[&#x27;Diabetic&#x27;,\n",
       "                                                             &#x27;Pneumonia&#x27;,\n",
       "                                                             &#x27;Cancer&#x27;]]),\n",
       "                                 [&#x27;condition&#x27;])])</pre></div></div></div><div class=\"sk-parallel\"><div class=\"sk-parallel-item\"><div class=\"sk-item\"><div class=\"sk-label-container\"><div class=\"sk-label sk-toggleable\"><input class=\"sk-toggleable__control sk-hidden--visually\" id=\"sk-estimator-id-6\" type=\"checkbox\" ><label for=\"sk-estimator-id-6\" class=\"sk-toggleable__label sk-toggleable__label-arrow\">gender_onehot</label><div class=\"sk-toggleable__content\"><pre>[&#x27;gender&#x27;]</pre></div></div></div><div class=\"sk-serial\"><div class=\"sk-item\"><div class=\"sk-estimator sk-toggleable\"><input class=\"sk-toggleable__control sk-hidden--visually\" id=\"sk-estimator-id-7\" type=\"checkbox\" ><label for=\"sk-estimator-id-7\" class=\"sk-toggleable__label sk-toggleable__label-arrow\">OneHotEncoder</label><div class=\"sk-toggleable__content\"><pre>OneHotEncoder(handle_unknown=&#x27;ignore&#x27;, sparse_output=False)</pre></div></div></div></div></div></div><div class=\"sk-parallel-item\"><div class=\"sk-item\"><div class=\"sk-label-container\"><div class=\"sk-label sk-toggleable\"><input class=\"sk-toggleable__control sk-hidden--visually\" id=\"sk-estimator-id-8\" type=\"checkbox\" ><label for=\"sk-estimator-id-8\" class=\"sk-toggleable__label sk-toggleable__label-arrow\">condition_ordinal</label><div class=\"sk-toggleable__content\"><pre>[&#x27;condition&#x27;]</pre></div></div></div><div class=\"sk-serial\"><div class=\"sk-item\"><div class=\"sk-estimator sk-toggleable\"><input class=\"sk-toggleable__control sk-hidden--visually\" id=\"sk-estimator-id-9\" type=\"checkbox\" ><label for=\"sk-estimator-id-9\" class=\"sk-toggleable__label sk-toggleable__label-arrow\">OrdinalEncoder</label><div class=\"sk-toggleable__content\"><pre>OrdinalEncoder(categories=[[&#x27;Diabetic&#x27;, &#x27;Pneumonia&#x27;, &#x27;Cancer&#x27;]])</pre></div></div></div></div></div></div><div class=\"sk-parallel-item\"><div class=\"sk-item\"><div class=\"sk-label-container\"><div class=\"sk-label sk-toggleable\"><input class=\"sk-toggleable__control sk-hidden--visually\" id=\"sk-estimator-id-10\" type=\"checkbox\" ><label for=\"sk-estimator-id-10\" class=\"sk-toggleable__label sk-toggleable__label-arrow\">remainder</label><div class=\"sk-toggleable__content\"><pre>[&#x27;age&#x27;, &#x27;bmi&#x27;, &#x27;blood_pressure&#x27;, &#x27;glucose_levels&#x27;]</pre></div></div></div><div class=\"sk-serial\"><div class=\"sk-item\"><div class=\"sk-estimator sk-toggleable\"><input class=\"sk-toggleable__control sk-hidden--visually\" id=\"sk-estimator-id-11\" type=\"checkbox\" ><label for=\"sk-estimator-id-11\" class=\"sk-toggleable__label sk-toggleable__label-arrow\">passthrough</label><div class=\"sk-toggleable__content\"><pre>passthrough</pre></div></div></div></div></div></div></div></div><div class=\"sk-item\"><div class=\"sk-estimator sk-toggleable\"><input class=\"sk-toggleable__control sk-hidden--visually\" id=\"sk-estimator-id-12\" type=\"checkbox\" ><label for=\"sk-estimator-id-12\" class=\"sk-toggleable__label sk-toggleable__label-arrow\">SVC</label><div class=\"sk-toggleable__content\"><pre>SVC(probability=True, random_state=42)</pre></div></div></div></div></div></div></div>"
      ],
      "text/plain": [
       "Pipeline(steps=[('preprocessor',\n",
       "                 ColumnTransformer(remainder='passthrough',\n",
       "                                   transformers=[('gender_onehot',\n",
       "                                                  OneHotEncoder(handle_unknown='ignore',\n",
       "                                                                sparse_output=False),\n",
       "                                                  ['gender']),\n",
       "                                                 ('condition_ordinal',\n",
       "                                                  OrdinalEncoder(categories=[['Diabetic',\n",
       "                                                                              'Pneumonia',\n",
       "                                                                              'Cancer']]),\n",
       "                                                  ['condition'])])),\n",
       "                ('classifier', SVC(probability=True, random_state=42))])"
      ]
     },
     "execution_count": 29,
     "metadata": {},
     "output_type": "execute_result"
    }
   ],
   "source": [
    "from sklearn.svm import SVC\n",
    "from sklearn.pipeline import Pipeline\n",
    "\n",
    "# Define the pipeline with SVM\n",
    "pipeline = Pipeline(steps=[\n",
    "    ('preprocessor', ct),\n",
    "    ('classifier', SVC(kernel='rbf', probability=True, random_state=42))\n",
    "])\n",
    "pipeline"
   ]
  },
  {
   "cell_type": "markdown",
   "id": "8711e2ca",
   "metadata": {},
   "source": [
    "# 4. Performance Impact on Models"
   ]
  },
  {
   "cell_type": "markdown",
   "id": "88460879",
   "metadata": {},
   "source": [
    " Random Sample Imputation aims to fill missing values by replacing them with random samples from the existing data, which can sometimes introduce noise but can also help preserve the data's overall distribution. In this specific scenario, the imputation didn't seem to significantly affect the overall performance, as evidenced by the evaluation metrics before and after the process.\n",
    "In both cases, the accuracy remained the same at approximately 0.901, suggesting that the model's overall performance was stable. However, the precision, recall, and F1-scores for the \"Smoker\" class remained zero even after imputation, indicating that the model continued to struggle with detecting this class correctly. This highlights that while imputation may help to reduce missing values, it does not necessarily improve model performance in handling imbalanced datasets, particularly when there are classes with fewer instances (such as the \"Smoker\" class in this case)."
   ]
  },
  {
   "cell_type": "markdown",
   "id": "c833b765",
   "metadata": {},
   "source": [
    "# Comparison of Evaluation Metrics across 3 Models"
   ]
  },
  {
   "cell_type": "code",
   "execution_count": 32,
   "id": "ec17918d",
   "metadata": {},
   "outputs": [
    {
     "data": {
      "text/html": [
       "<div>\n",
       "<style scoped>\n",
       "    .dataframe tbody tr th:only-of-type {\n",
       "        vertical-align: middle;\n",
       "    }\n",
       "\n",
       "    .dataframe tbody tr th {\n",
       "        vertical-align: top;\n",
       "    }\n",
       "\n",
       "    .dataframe thead th {\n",
       "        text-align: right;\n",
       "    }\n",
       "</style>\n",
       "<table border=\"1\" class=\"dataframe\">\n",
       "  <thead>\n",
       "    <tr style=\"text-align: right;\">\n",
       "      <th></th>\n",
       "      <th>Model</th>\n",
       "      <th>Precision</th>\n",
       "      <th>Recall</th>\n",
       "      <th>F1 Score</th>\n",
       "    </tr>\n",
       "  </thead>\n",
       "  <tbody>\n",
       "    <tr>\n",
       "      <th>0</th>\n",
       "      <td>Logistic Regression</td>\n",
       "      <td>0.5067</td>\n",
       "      <td>0.5175</td>\n",
       "      <td>0.3494</td>\n",
       "    </tr>\n",
       "    <tr>\n",
       "      <th>1</th>\n",
       "      <td>Random Forest</td>\n",
       "      <td>0.4513</td>\n",
       "      <td>0.5000</td>\n",
       "      <td>0.4744</td>\n",
       "    </tr>\n",
       "    <tr>\n",
       "      <th>2</th>\n",
       "      <td>SVM</td>\n",
       "      <td>0.5103</td>\n",
       "      <td>0.5018</td>\n",
       "      <td>0.4873</td>\n",
       "    </tr>\n",
       "  </tbody>\n",
       "</table>\n",
       "</div>"
      ],
      "text/plain": [
       "                 Model  Precision  Recall  F1 Score\n",
       "0  Logistic Regression     0.5067  0.5175    0.3494\n",
       "1        Random Forest     0.4513  0.5000    0.4744\n",
       "2                  SVM     0.5103  0.5018    0.4873"
      ]
     },
     "execution_count": 32,
     "metadata": {},
     "output_type": "execute_result"
    }
   ],
   "source": [
    "import pandas as pd\n",
    "\n",
    "# Define metric values for each model\n",
    "metrics_data = {\n",
    "    'Model': ['Logistic Regression', 'Random Forest', 'SVM'],\n",
    "    'Precision': [0.5067, 0.4513, 0.5103],\n",
    "    'Recall': [0.5175, 0.5000, 0.5018],\n",
    "    'F1 Score': [0.3494, 0.4744, 0.4873]\n",
    "}\n",
    "\n",
    "# Create DataFrame\n",
    "metrics_df = pd.DataFrame(metrics_data)\n",
    "metrics_df"
   ]
  },
  {
   "cell_type": "markdown",
   "id": "02fb3489",
   "metadata": {},
   "source": [
    "# 5. Visuals & Presentation: Comparison Bar Chart"
   ]
  },
  {
   "cell_type": "code",
   "execution_count": 33,
   "id": "62bb750c",
   "metadata": {},
   "outputs": [
    {
     "data": {
      "image/png": "[encoded data removed]",
      "text/plain": [
       "<Figure size 1000x600 with 1 Axes>"
      ]
     },
     "metadata": {},
     "output_type": "display_data"
    }
   ],
   "source": [
    "import matplotlib.pyplot as plt\n",
    "\n",
    "# Plot setup\n",
    "models = metrics_df['Model']\n",
    "x = range(len(models))\n",
    "\n",
    "plt.figure(figsize=(10, 6))\n",
    "plt.bar(x, metrics_df['Precision'], width=0.2, label='Precision', align='center')\n",
    "plt.bar([i + 0.2 for i in x], metrics_df['Recall'], width=0.2, label='Recall', align='center')\n",
    "plt.bar([i + 0.4 for i in x], metrics_df['F1 Score'], width=0.2, label='F1 Score', align='center')\n",
    "\n",
    "# Formatting\n",
    "plt.xticks([i + 0.2 for i in x], models)\n",
    "plt.ylabel('Score')\n",
    "plt.title('Model Performance Comparison')\n",
    "plt.legend()\n",
    "plt.tight_layout()\n",
    "plt.show()\n"
   ]
  },
  {
   "cell_type": "markdown",
   "id": "b5a777c1",
   "metadata": {},
   "source": [
    "# 6. Interpretation and Conclusion "
   ]
  },
  {
   "cell_type": "markdown",
   "id": "5dbeb209",
   "metadata": {},
   "source": [
    "Based on the comparative analysis of precision, recall, and F1 score across the three models—Logistic Regression, Random Forest, and SVM—it is evident that SVM outperforms the others. While all models showed reasonable performance, SVM achieved the highest F1 Score (0.4873), indicating better balance between precision and recall in predicting smoking status. Logistic Regression, although more interpretable, lagged significantly in performance, likely due to its linear nature. Random Forest performed moderately well but was outshined by SVM. Therefore, SVM is the most suitable choice for this classification task due to its superior overall predictive capability."
   ]
  },
  {
   "cell_type": "code",
   "execution_count": null,
   "id": "581d4981",
   "metadata": {},
   "outputs": [],
   "source": []
  }
 ],
 "metadata": {
  "kernelspec": {
   "display_name": "Python 3 (ipykernel)",
   "language": "python",
   "name": "python3"
  },
  "language_info": {
   "codemirror_mode": {
    "name": "ipython",
    "version": 3
   },
   "file_extension": ".py",
   "mimetype": "text/x-python",
   "name": "python",
   "nbconvert_exporter": "python",
   "pygments_lexer": "ipython3",
   "version": "3.11.3"
  }
 },
 "nbformat": 4,
 "nbformat_minor": 5
}
